{
  "nbformat": 4,
  "nbformat_minor": 0,
  "metadata": {
    "colab": {
      "name": "AI_Project.ipynb",
      "version": "0.3.2",
      "provenance": [],
      "collapsed_sections": [],
      "include_colab_link": true
    },
    "kernelspec": {
      "name": "python3",
      "display_name": "Python 3"
    }
  },
  "cells": [
    {
      "cell_type": "markdown",
      "metadata": {
        "id": "view-in-github",
        "colab_type": "text"
      },
      "source": [
        "<a href=\"https://colab.research.google.com/github/emrf2b/CS4300AI_NN_Project/blob/master/AI_Project.ipynb\" target=\"_parent\"><img src=\"https://colab.research.google.com/assets/colab-badge.svg\" alt=\"Open In Colab\"/></a>"
      ]
    },
    {
      "cell_type": "code",
      "metadata": {
        "id": "0qLxFh46b5vu",
        "colab_type": "code",
        "colab": {}
      },
      "source": [
        "from numpy.random import seed #required for reproducibility\n",
        "seed(1) #required for reproducibility\n",
        "from tensorflow import set_random_seed #required for reproducibility\n",
        "set_random_seed(1) #required for reproducibility\n",
        "from keras.models import Sequential\n",
        "from keras.layers import Dense\n",
        "import keras.utils\n",
        "import numpy as np\n",
        "import matplotlib.pyplot as plt"
      ],
      "execution_count": 0,
      "outputs": []
    },
    {
      "cell_type": "code",
      "metadata": {
        "id": "o94m84OwYjDm",
        "colab_type": "code",
        "outputId": "0fad0656-ea00-4686-d02c-16444edc8920",
        "colab": {
          "resources": {
            "http://localhost:8080/nbextensions/google.colab/files.js": {
              "data": "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",
              "ok": true,
              "headers": [
                [
                  "content-type",
                  "application/javascript"
                ]
              ],
              "status": 200,
              "status_text": ""
            }
          },
          "base_uri": "https://localhost:8080/",
          "height": 75
        }
      },
      "source": [
        "from google.colab import files\n",
        "uploaded = files.upload()"
      ],
      "execution_count": 2,
      "outputs": [
        {
          "output_type": "display_data",
          "data": {
            "text/html": [
              "\n",
              "     <input type=\"file\" id=\"files-4ceef5b7-4e76-4da9-ac27-5ef4a99c76d5\" name=\"files[]\" multiple disabled />\n",
              "     <output id=\"result-4ceef5b7-4e76-4da9-ac27-5ef4a99c76d5\">\n",
              "      Upload widget is only available when the cell has been executed in the\n",
              "      current browser session. Please rerun this cell to enable.\n",
              "      </output>\n",
              "      <script src=\"/nbextensions/google.colab/files.js\"></script> "
            ],
            "text/plain": [
              "<IPython.core.display.HTML object>"
            ]
          },
          "metadata": {
            "tags": []
          }
        },
        {
          "output_type": "stream",
          "text": [
            "Saving CS4300AIProjectGolfDataset.csv to CS4300AIProjectGolfDataset.csv\n"
          ],
          "name": "stdout"
        }
      ]
    },
    {
      "cell_type": "code",
      "metadata": {
        "id": "uk_CNWhZZxpF",
        "colab_type": "code",
        "colab": {}
      },
      "source": [
        "import numpy as np\n",
        "xy = np.genfromtxt('CS4300AIProjectGolfDataset.csv', delimiter=',', skip_header = 1, usecols = (1, 2, 3, 4), max_rows = 195)"
      ],
      "execution_count": 0,
      "outputs": []
    },
    {
      "cell_type": "markdown",
      "metadata": {
        "id": "s__1_iRmHNfH",
        "colab_type": "text"
      },
      "source": [
        "Data imported for this project consists of 195 PGA golfer's statistics The four imported columns include this project's independent variable, the proportion of top-ten placements and the three input features. The original dataset also includes the golfer's names which is irrelevant to this project. There are many other columns that included further statistics over the year of 2017, but those have been omitted in the imported subset of data for the sake of brevity. The original dataset can be observed in this project's Github page.\n",
        "\n",
        "The input features used for prediction of placing in the top-ten of a major golf tournament are: an Experience Measure, an Accuracy Measure, and Average Distance Drived (of the golf ball). The Experience Measure was created by multiplying Age and Rounds Played (in the year). Essentially, I wanted to balance recent play (Rounds Played) and overall play (Age) experience measures. While it is true that all golfers do not begin playing golf at the same age, and therefore have varying starting ages, nearly all professional golfers have played for a college. Then we can assume that all players have been golfing since at least their teenage years. It is further assumed that older players will have richer backgrounds in the sport and therefore can make sounder mental and gamewise judgements. Rounds Played captures more recent player experiences. For example, course conditions can change from year to year. If someone has been playing his entire life, but has no experience on a particular course, his lifetime of playing my have little to do with placing well at that event. On the other hand, if a new player has kept up with recent changes in conditions and has played the course regularly, he may have a better shot than the more generally experienced player. \n",
        "\n",
        "The Accuracy Measure is based on the current season statistics. Particularly, Green-In-2 and proportion of Fairways Hit were multiplied to create this metric. Accuracy is important in all sports, but golf particularly because slight mishaps are often very costly and hard to come back from. Hitting the fairway is one way to judge a golfer's precision. The goal of the first shot is usually to land on a fairway to best set up the next shot which is usually the approach to the green. Shots that end up in the taller grass, sand pits, or hazardous areas are likely to result in higher overall scores, which is not desirable. However, sometimes golfers are good at getting out of these situations, making the first shot of the hole not as vital as it may first appear. This is how the Green-In-2 variable is useful--golfers whom get to the green (the area with the hole) in 2 shots on par 4 and par 5 holes are very likely to make par or improve their scores by making birdies. Putting is obviously a challenge as well, but I would like this examination to remain solely on the initial shots. \n",
        "\n",
        "Consequently, this bring us to the final input feature, Average Driving Distance. Drives are measured in yards and theoretically can be made with any club, but are most often made with a driver. Subsequently, the first shot in gold is made from the tee box and is called a drive. The object of the drive is to get the ball as close to the green as possible. A long drive is highly sought-after and prized in the world of golf, hence its appearance in this project. However, the power that a drive generally generates may cause a lack of control in precision, causing shots to veer off target. Also, golfers whom insist on driving the ball as hard and long as possible are not always thinking strategically about hole/course conditions. "
      ]
    },
    {
      "cell_type": "code",
      "metadata": {
        "id": "gQMW5W27Z_4n",
        "colab_type": "code",
        "outputId": "af44034d-b337-4541-b9f1-3ae7868c84f2",
        "colab": {
          "base_uri": "https://localhost:8080/",
          "height": 35
        }
      },
      "source": [
        "print(xy.shape)"
      ],
      "execution_count": 4,
      "outputs": [
        {
          "output_type": "stream",
          "text": [
            "(195, 4)\n"
          ],
          "name": "stdout"
        }
      ]
    },
    {
      "cell_type": "code",
      "metadata": {
        "id": "KroUrk0taO-Y",
        "colab_type": "code",
        "outputId": "feb25712-fb47-4fcf-fccc-86753b94beec",
        "colab": {
          "base_uri": "https://localhost:8080/",
          "height": 3449
        }
      },
      "source": [
        "print(xy[0:, :])"
      ],
      "execution_count": 5,
      "outputs": [
        {
          "output_type": "stream",
          "text": [
            "[[2.91900000e+02 2.84423440e+03 1.11300000e+03 0.00000000e+00]\n",
            " [2.90100000e+02 2.87111400e+03 3.78000000e+03 8.33333330e-02]\n",
            " [2.79500000e+02 2.71562520e+03 1.85600000e+03 0.00000000e+00]\n",
            " [2.98700000e+02 4.27780840e+03 2.51100000e+03 3.57142860e-02]\n",
            " [3.04600000e+02 4.20947280e+03 2.11200000e+03 2.00000000e-01]\n",
            " [2.89300000e+02 2.93640670e+03 2.85600000e+03 1.15384615e-01]\n",
            " [2.85800000e+02 2.39917860e+03 2.41800000e+03 1.00000000e-01]\n",
            " [2.80400000e+02 1.82631360e+03 2.20800000e+03 0.00000000e+00]\n",
            " [2.93600000e+02 3.27706440e+03 2.87100000e+03 2.91666667e-01]\n",
            " [2.86100000e+02 3.09330820e+03 2.98800000e+03 1.20000000e-01]\n",
            " [2.98200000e+02 3.07107730e+03 1.72800000e+03 2.66666667e-01]\n",
            " [2.90300000e+02 2.58632220e+03 3.33300000e+03 3.22580650e-02]\n",
            " [2.94400000e+02 4.17002710e+03 2.91000000e+03 6.45161290e-02]\n",
            " [2.95400000e+02 3.51149400e+03 2.75900000e+03 1.11111111e-01]\n",
            " [3.18700000e+02 3.63747680e+03 2.02500000e+03 1.25000000e-01]\n",
            " [3.16300000e+02 3.92014700e+03 2.71600000e+03 3.84615385e-01]\n",
            " [3.07500000e+02 4.49802030e+03 1.75500000e+03 2.94117647e-01]\n",
            " [3.15900000e+02 4.02812800e+03 3.56700000e+03 7.14285710e-02]\n",
            " [2.91400000e+02 3.40181070e+03 4.54500000e+03 9.67741940e-02]\n",
            " [3.03500000e+02 3.06290430e+03 2.52000000e+03 3.12500000e-01]\n",
            " [2.86000000e+02 3.08564720e+03 2.57300000e+03 3.70370370e-02]\n",
            " [2.98900000e+02 3.28214370e+03 2.02800000e+03 0.00000000e+00]\n",
            " [2.93100000e+02 2.96305280e+03 2.75900000e+03 6.89655170e-02]\n",
            " [2.98100000e+02 3.11904000e+03 3.91500000e+03 1.20000000e-01]\n",
            " [2.88900000e+02 4.11272470e+03 2.04000000e+03 5.00000000e-02]\n",
            " [2.99200000e+02 3.49974560e+03 2.59200000e+03 0.00000000e+00]\n",
            " [2.97100000e+02 2.12746800e+03 1.22500000e+03 4.54545450e-02]\n",
            " [2.90600000e+02 3.68908080e+03 2.91200000e+03 1.66666667e-01]\n",
            " [2.99600000e+02 3.10577400e+03 2.66000000e+03 4.00000000e-02]\n",
            " [3.00300000e+02 3.75940320e+03 2.17600000e+03 0.00000000e+00]\n",
            " [3.02700000e+02 3.59458380e+03 2.21100000e+03 9.09090910e-02]\n",
            " [3.02600000e+02 3.14693380e+03 2.66600000e+03 7.14285710e-02]\n",
            " [2.99700000e+02 3.27429520e+03 3.64800000e+03 6.66666670e-02]\n",
            " [2.96300000e+02 3.40154100e+03 2.88000000e+03 8.00000000e-02]\n",
            " [2.92600000e+02 3.26587950e+03 3.67200000e+03 6.25000000e-02]\n",
            " [2.93200000e+02 3.12245820e+03 1.73400000e+03 5.55555560e-02]\n",
            " [3.02800000e+02 4.06967380e+03 2.64000000e+03 1.53846154e-01]\n",
            " [2.97300000e+02 4.09756840e+03 2.37800000e+03 1.15384615e-01]\n",
            " [3.05700000e+02 4.03151360e+03 2.53500000e+03 1.42857143e-01]\n",
            " [2.89200000e+02 4.05238020e+03 2.88600000e+03 2.27272727e-01]\n",
            " [2.89000000e+02 3.47081070e+03 2.67300000e+03 7.14285710e-02]\n",
            " [2.84200000e+02 2.67688240e+03 3.78000000e+03 9.67741940e-02]\n",
            " [2.91700000e+02 3.06250500e+03 2.91400000e+03 1.11111111e-01]\n",
            " [2.92500000e+02 4.02172000e+03 2.23300000e+03 1.30434783e-01]\n",
            " [2.92300000e+02 3.60200250e+03 3.27600000e+03 3.70370370e-02]\n",
            " [3.20200000e+02 3.88435320e+03 1.62400000e+03 3.12500000e-01]\n",
            " [2.88400000e+02 3.62905620e+03 2.97600000e+03 0.00000000e+00]\n",
            " [2.86300000e+02 3.07720800e+03 2.30400000e+03 0.00000000e+00]\n",
            " [2.92600000e+02 2.71848640e+03 2.65200000e+03 3.44827590e-02]\n",
            " [3.07900000e+02 3.83203260e+03 2.64000000e+03 3.70370370e-02]\n",
            " [2.85200000e+02 2.35391840e+03 2.29400000e+03 0.00000000e+00]\n",
            " [2.90600000e+02 2.38579000e+03 2.53500000e+03 4.54545450e-02]\n",
            " [3.01100000e+02 3.76925670e+03 1.91400000e+03 2.22222222e-01]\n",
            " [2.92200000e+02 3.51082080e+03 3.43000000e+03 6.25000000e-02]\n",
            " [2.96200000e+02 2.85376960e+03 2.94000000e+03 5.00000000e-02]\n",
            " [2.95600000e+02 3.94723350e+03 2.55600000e+03 2.63157895e-01]\n",
            " [2.99900000e+02 3.17276790e+03 3.93600000e+03 2.72727273e-01]\n",
            " [3.01300000e+02 3.00778560e+03 2.68600000e+03 1.60000000e-01]\n",
            " [2.90900000e+02 2.75941580e+03 2.61000000e+03 0.00000000e+00]\n",
            " [3.04100000e+02 3.67438500e+03 2.34500000e+03 2.77777778e-01]\n",
            " [2.99000000e+02 2.97727420e+03 2.26800000e+03 1.48148148e-01]\n",
            " [3.03400000e+02 3.49498040e+03 2.52200000e+03 1.00000000e-01]\n",
            " [2.99300000e+02 3.58965740e+03 2.40800000e+03 2.91666667e-01]\n",
            " [3.03200000e+02 4.56539920e+03 1.97500000e+03 3.33333333e-01]\n",
            " [2.92900000e+02 3.22468770e+03 3.04200000e+03 1.81818182e-01]\n",
            " [3.00100000e+02 3.13753480e+03 2.16200000e+03 0.00000000e+00]\n",
            " [3.01700000e+02 2.64379960e+03 2.27500000e+03 1.11111111e-01]\n",
            " [3.07500000e+02 3.19447430e+03 3.47800000e+03 3.84615380e-02]\n",
            " [2.92700000e+02 3.47297060e+03 2.82000000e+03 6.66666670e-02]\n",
            " [2.93500000e+02 2.49677640e+03 2.54100000e+03 3.84615380e-02]\n",
            " [2.93900000e+02 3.19317180e+03 1.78500000e+03 0.00000000e+00]\n",
            " [2.96400000e+02 2.92715820e+03 1.73600000e+03 0.00000000e+00]\n",
            " [2.89900000e+02 2.38167710e+03 1.85000000e+03 3.70370370e-02]\n",
            " [2.87800000e+02 2.88087750e+03 3.52000000e+03 1.66666667e-01]\n",
            " [3.04200000e+02 3.78651600e+03 2.52000000e+03 0.00000000e+00]\n",
            " [2.94200000e+02 3.48706500e+03 2.60700000e+03 3.33333330e-02]\n",
            " [3.01400000e+02 3.42010000e+03 1.79200000e+03 0.00000000e+00]\n",
            " [2.92200000e+02 2.90151090e+03 2.68600000e+03 7.14285710e-02]\n",
            " [2.99000000e+02 3.47330680e+03 2.55500000e+03 1.36363636e-01]\n",
            " [3.00000000e+02 2.97062280e+03 3.31200000e+03 0.00000000e+00]\n",
            " [2.98600000e+02 3.51708180e+03 2.89000000e+03 2.60869565e-01]\n",
            " [2.95000000e+02 3.33331700e+03 2.24000000e+03 3.57142860e-02]\n",
            " [3.15200000e+02 4.24281960e+03 2.72600000e+03 1.78571429e-01]\n",
            " [2.97200000e+02 3.76553400e+03 2.47000000e+03 5.55555560e-02]\n",
            " [2.99800000e+02 2.88118320e+03 2.03000000e+03 1.87500000e-01]\n",
            " [3.02400000e+02 3.12672200e+03 2.40000000e+03 0.00000000e+00]\n",
            " [2.85300000e+02 2.67203580e+03 1.55000000e+03 0.00000000e+00]\n",
            " [2.96200000e+02 4.04264100e+03 2.55000000e+03 2.08333333e-01]\n",
            " [2.94600000e+02 4.20260900e+03 1.73400000e+03 8.33333330e-02]\n",
            " [3.10100000e+02 3.55433160e+03 3.63000000e+03 9.67741940e-02]\n",
            " [2.95100000e+02 3.86808670e+03 3.57200000e+03 1.85185185e-01]\n",
            " [2.90300000e+02 3.19523400e+03 2.90500000e+03 1.66666667e-01]\n",
            " [2.91100000e+02 3.07530130e+03 2.89000000e+03 1.66666667e-01]\n",
            " [3.08800000e+02 3.96840640e+03 2.38700000e+03 1.73913043e-01]\n",
            " [2.88600000e+02 3.04839200e+03 2.44400000e+03 9.67741940e-02]\n",
            " [3.12900000e+02 4.17338680e+03 3.23000000e+03 1.42857143e-01]\n",
            " [3.00300000e+02 4.47538560e+03 2.88000000e+03 1.60000000e-01]\n",
            " [3.12900000e+02 4.03459550e+03 2.07500000e+03 4.28571429e-01]\n",
            " [3.03100000e+02 4.14993640e+03 2.35600000e+03 5.62500000e-01]\n",
            " [2.99900000e+02 3.93762060e+03 1.92500000e+03 2.27272727e-01]\n",
            " [2.89400000e+02 3.06485220e+03 2.41400000e+03 4.00000000e-02]\n",
            " [2.91700000e+02 3.39177510e+03 2.66000000e+03 0.00000000e+00]\n",
            " [2.93100000e+02 3.33217800e+03 2.01000000e+03 0.00000000e+00]\n",
            " [3.10500000e+02 4.40292300e+03 1.44900000e+03 2.77777778e-01]\n",
            " [2.86100000e+02 2.66958750e+03 2.55000000e+03 0.00000000e+00]\n",
            " [2.87100000e+02 3.31150040e+03 3.29000000e+03 6.89655170e-02]\n",
            " [2.95800000e+02 4.00748040e+03 2.97600000e+03 1.07142857e-01]\n",
            " [2.98500000e+02 2.77249380e+03 3.15900000e+03 1.73913043e-01]\n",
            " [2.80500000e+02 1.97867720e+03 2.40000000e+03 1.33333333e-01]\n",
            " [3.03100000e+02 3.82887050e+03 3.22000000e+03 3.70370370e-02]\n",
            " [3.09700000e+02 4.01825600e+03 3.13500000e+03 1.42857143e-01]\n",
            " [2.96900000e+02 3.41970740e+03 2.91100000e+03 9.09090910e-02]\n",
            " [3.10700000e+02 3.23370580e+03 2.01000000e+03 2.77777778e-01]\n",
            " [3.03200000e+02 3.57229920e+03 2.66800000e+03 1.15384615e-01]\n",
            " [2.98700000e+02 3.66320040e+03 2.72000000e+03 3.84615380e-02]\n",
            " [3.00700000e+02 3.51151710e+03 2.26300000e+03 9.09090910e-02]\n",
            " [2.98900000e+02 3.73561350e+03 2.34900000e+03 1.53846154e-01]\n",
            " [2.91800000e+02 2.95937180e+03 3.15900000e+03 3.57142860e-02]\n",
            " [3.06100000e+02 3.59290570e+03 2.61800000e+03 1.25000000e-01]\n",
            " [2.93400000e+02 3.24460080e+03 2.62200000e+03 2.10526316e-01]\n",
            " [2.96900000e+02 3.68906880e+03 2.41200000e+03 4.76190480e-02]\n",
            " [3.02800000e+02 3.84837200e+03 1.97100000e+03 0.00000000e+00]\n",
            " [3.02500000e+02 4.24324770e+03 1.87600000e+03 1.57894737e-01]\n",
            " [2.91000000e+02 5.31756820e+03 2.35200000e+03 3.33333333e-01]\n",
            " [3.02400000e+02 3.80131560e+03 2.43600000e+03 6.45161290e-02]\n",
            " [2.82800000e+02 2.41431100e+03 2.46400000e+03 5.00000000e-02]\n",
            " [3.07300000e+02 3.79456000e+03 1.72800000e+03 9.09090910e-02]\n",
            " [2.93200000e+02 3.63441600e+03 2.61300000e+03 5.00000000e-02]\n",
            " [3.13200000e+02 4.85596740e+03 2.99200000e+03 1.20000000e-01]\n",
            " [3.01600000e+02 4.40049630e+03 2.27500000e+03 2.22222222e-01]\n",
            " [2.91100000e+02 3.35088440e+03 3.43200000e+03 0.00000000e+00]\n",
            " [2.99000000e+02 3.22337500e+03 2.01600000e+03 0.00000000e+00]\n",
            " [2.94700000e+02 4.06073120e+03 2.25000000e+03 2.50000000e-01]\n",
            " [3.14500000e+02 3.97026000e+03 2.34600000e+03 6.11111111e-01]\n",
            " [2.97000000e+02 3.30520150e+03 1.69000000e+03 0.00000000e+00]\n",
            " [2.89100000e+02 2.93730780e+03 2.26800000e+03 3.57142860e-02]\n",
            " [2.95400000e+02 3.81461400e+03 1.77500000e+03 4.54545450e-02]\n",
            " [2.85400000e+02 3.32104740e+03 2.54200000e+03 0.00000000e+00]\n",
            " [2.85100000e+02 2.54526600e+03 2.57400000e+03 9.52380950e-02]\n",
            " [2.90600000e+02 3.76401200e+03 2.46400000e+03 1.00000000e-01]\n",
            " [2.87100000e+02 2.73450000e+03 1.73400000e+03 5.26315790e-02]\n",
            " [2.98000000e+02 4.09344000e+03 2.02500000e+03 4.34782610e-02]\n",
            " [2.80800000e+02 2.62923560e+03 2.58300000e+03 4.00000000e-02]\n",
            " [3.03300000e+02 3.56019480e+03 2.52200000e+03 3.57142860e-02]\n",
            " [2.91300000e+02 3.60353830e+03 1.80000000e+03 0.00000000e+00]\n",
            " [3.01000000e+02 3.50832150e+03 1.91700000e+03 0.00000000e+00]\n",
            " [2.89800000e+02 3.87195040e+03 2.59200000e+03 3.70370370e-02]\n",
            " [2.90200000e+02 3.16258800e+03 3.53600000e+03 1.42857143e-01]\n",
            " [2.87300000e+02 3.44159340e+03 3.20400000e+03 1.11111111e-01]\n",
            " [3.00100000e+02 3.14807160e+03 3.06900000e+03 2.41379310e-01]\n",
            " [2.99100000e+02 3.62807100e+03 3.56700000e+03 0.00000000e+00]\n",
            " [3.00800000e+02 3.45100240e+03 3.90000000e+03 1.48148148e-01]\n",
            " [2.99500000e+02 3.42875000e+03 2.21000000e+03 1.50000000e-01]\n",
            " [2.86500000e+02 2.68699100e+03 3.30600000e+03 7.14285710e-02]\n",
            " [2.89300000e+02 2.28963960e+03 2.21100000e+03 0.00000000e+00]\n",
            " [2.98800000e+02 3.34990760e+03 1.92500000e+03 3.18181818e-01]\n",
            " [2.95600000e+02 3.59806320e+03 2.46400000e+03 1.25000000e-01]\n",
            " [2.92600000e+02 3.97226010e+03 2.60000000e+03 6.89655170e-02]\n",
            " [3.08600000e+02 3.82064760e+03 2.29600000e+03 1.73913043e-01]\n",
            " [2.95400000e+02 3.22353810e+03 1.37500000e+03 1.17647059e-01]\n",
            " [3.13600000e+02 4.17365490e+03 3.19800000e+03 2.72727273e-01]\n",
            " [3.06400000e+02 4.08955170e+03 2.04000000e+03 3.75000000e-01]\n",
            " [3.13400000e+02 4.19733600e+03 1.56800000e+03 4.00000000e-01]\n",
            " [3.02800000e+02 4.25962530e+03 2.13900000e+03 8.33333330e-02]\n",
            " [2.96700000e+02 3.27222700e+03 3.32500000e+03 6.89655170e-02]\n",
            " [2.78400000e+02 2.09428610e+03 3.60500000e+03 9.37500000e-02]\n",
            " [2.92600000e+02 3.55560200e+03 2.79000000e+03 3.33333333e-01]\n",
            " [2.82800000e+02 2.65890440e+03 4.55400000e+03 2.06896552e-01]\n",
            " [2.95400000e+02 3.09063720e+03 2.34500000e+03 0.00000000e+00]\n",
            " [3.11400000e+02 4.07547910e+03 2.45000000e+03 1.42857143e-01]\n",
            " [2.93500000e+02 3.05709750e+03 2.96000000e+03 1.66666667e-01]\n",
            " [3.03100000e+02 3.40026740e+03 3.23200000e+03 1.00000000e-01]\n",
            " [2.99100000e+02 4.00052640e+03 2.01000000e+03 1.11111111e-01]\n",
            " [2.94700000e+02 3.47019220e+03 1.93200000e+03 0.00000000e+00]\n",
            " [2.84000000e+02 2.36367600e+03 2.52000000e+03 0.00000000e+00]\n",
            " [2.96100000e+02 4.00056800e+03 2.41800000e+03 1.60000000e-01]\n",
            " [2.96300000e+02 2.95668450e+03 2.73600000e+03 4.00000000e-02]\n",
            " [2.90200000e+02 3.11147760e+03 2.70000000e+03 7.14285710e-02]\n",
            " [2.89600000e+02 3.60857120e+03 1.98400000e+03 5.00000000e-02]\n",
            " [2.81100000e+02 2.77507200e+03 2.73000000e+03 4.76190480e-02]\n",
            " [3.00100000e+02 3.41127600e+03 2.30000000e+03 1.85185185e-01]\n",
            " [2.92500000e+02 3.52185600e+03 2.78100000e+03 1.07142857e-01]\n",
            " [2.94000000e+02 3.43714800e+03 2.54200000e+03 1.66666667e-01]\n",
            " [2.90600000e+02 2.70043200e+03 1.37700000e+03 0.00000000e+00]\n",
            " [2.94200000e+02 3.22294400e+03 2.69700000e+03 1.85185185e-01]\n",
            " [2.91700000e+02 2.90288930e+03 2.41800000e+03 1.92307692e-01]\n",
            " [2.99200000e+02 4.09841440e+03 2.26800000e+03 1.76470588e-01]\n",
            " [2.86700000e+02 3.32450000e+03 3.61900000e+03 8.33333330e-02]\n",
            " [3.04800000e+02 3.69168240e+03 2.81200000e+03 1.50000000e-01]\n",
            " [3.05500000e+02 3.59860800e+03 2.23600000e+03 3.57142860e-02]\n",
            " [2.89700000e+02 3.83714660e+03 2.64000000e+03 1.25000000e-01]\n",
            " [2.96300000e+02 3.77540220e+03 2.53800000e+03 1.72413793e-01]\n",
            " [3.03400000e+02 3.82145020e+03 1.80400000e+03 1.48148148e-01]\n",
            " [2.95500000e+02 2.90120800e+03 3.10800000e+03 3.70370370e-02]\n",
            " [3.08200000e+02 3.67356150e+03 2.54800000e+03 1.11111111e-01]]\n"
          ],
          "name": "stdout"
        }
      ]
    },
    {
      "cell_type": "code",
      "metadata": {
        "id": "wuCMAPjoYWab",
        "colab_type": "code",
        "outputId": "400700d6-37e8-4a7f-a491-1e24a7a5d591",
        "colab": {
          "base_uri": "https://localhost:8080/",
          "height": 70
        }
      },
      "source": [
        "#norm_xy = (keras.utils.normalize(xy, axis=-1, order=2))\n",
        "\n",
        "## Mins and maxes of the Output Variable, Proportion of Top-Ten Placements\n",
        "print(\"Range of Proportion of Top-Ten Tournament Placements:\")\n",
        "print(np.max(xy[:, 3]))\n",
        "print(np.min(xy[:, 3]))"
      ],
      "execution_count": 6,
      "outputs": [
        {
          "output_type": "stream",
          "text": [
            "Range of Proportion of Top-Ten Tournament Placements:\n",
            "0.611111111\n",
            "0.0\n"
          ],
          "name": "stdout"
        }
      ]
    },
    {
      "cell_type": "code",
      "metadata": {
        "id": "VUc0y2-AYMoc",
        "colab_type": "code",
        "outputId": "964d4ef1-bff1-46ae-bb98-bd7a76eb4190",
        "colab": {
          "base_uri": "https://localhost:8080/",
          "height": 70
        }
      },
      "source": [
        "##Intital mins and maxes of the Experience Measure (age * no_rounds_played) variable\n",
        "print(\"Range of Experience Measure:\")\n",
        "print(np.max(xy[:, 2]))\n",
        "print(np.min(xy[:, 2]))\n",
        "\n",
        "#print(np.max(norm_xy[:, 2]))\n",
        "#print(np.min(norm_xy[:, 2]))"
      ],
      "execution_count": 7,
      "outputs": [
        {
          "output_type": "stream",
          "text": [
            "Range of Experience Measure:\n",
            "4554.0\n",
            "1113.0\n"
          ],
          "name": "stdout"
        }
      ]
    },
    {
      "cell_type": "code",
      "metadata": {
        "id": "rLjydv9LdcMx",
        "colab_type": "code",
        "outputId": "3cbc5697-ea8d-4cb7-94dc-d6f3840127bd",
        "colab": {
          "base_uri": "https://localhost:8080/",
          "height": 70
        }
      },
      "source": [
        "##Intital mins and maxes of the Accuracy Measure (hole_in_2 * fairways_hit) variable\n",
        "print(\"Range of Accuracy Measure:\")\n",
        "print(np.max(xy[:, 1]))\n",
        "print(np.min(xy[:, 1]))\n",
        "\n",
        "\n",
        "#print(np.max(norm_xy[:, 1]))\n",
        "#print(np.min(norm_xy[:, 1]))"
      ],
      "execution_count": 8,
      "outputs": [
        {
          "output_type": "stream",
          "text": [
            "Range of Accuracy Measure:\n",
            "5317.5682\n",
            "1826.3136\n"
          ],
          "name": "stdout"
        }
      ]
    },
    {
      "cell_type": "code",
      "metadata": {
        "id": "gvz2ovfnJScm",
        "colab_type": "code",
        "outputId": "9d1f01bf-e418-42e5-9050-37d33906e26f",
        "colab": {
          "base_uri": "https://localhost:8080/",
          "height": 70
        }
      },
      "source": [
        "##Intital mins and maxes of the Average Ball Driving Distance\n",
        "print(\"Range of Average Driving Distance:\")\n",
        "print(np.max(xy[:, 0]))\n",
        "print(np.min(xy[:, 0]))\n",
        "\n",
        "#print(np.max(norm_xy[:, 0]))\n",
        "#print(np.min(norm_xy[:, 0]))"
      ],
      "execution_count": 9,
      "outputs": [
        {
          "output_type": "stream",
          "text": [
            "Range of Average Driving Distance:\n",
            "320.2\n",
            "278.4\n"
          ],
          "name": "stdout"
        }
      ]
    },
    {
      "cell_type": "markdown",
      "metadata": {
        "id": "ZKN_bPRIHHud",
        "colab_type": "text"
      },
      "source": [
        "The data consist of 195 records, making 155 of those items approximately 80 percent. That number of records makes up the training set, leaving 40 for testing. "
      ]
    },
    {
      "cell_type": "code",
      "metadata": {
        "id": "D26oNevjaZGY",
        "colab_type": "code",
        "colab": {}
      },
      "source": [
        "#xy_train = norm_xy[0:155, 0:]\n",
        "#xy_test  = norm_xy[155:, 0:]\n",
        "\n",
        "xy_train = xy[0:155, 0:]\n",
        "xy_test  = xy[155:, 0:]"
      ],
      "execution_count": 0,
      "outputs": []
    },
    {
      "cell_type": "code",
      "metadata": {
        "id": "t7If7LxGa6fw",
        "colab_type": "code",
        "outputId": "b9acf3e7-28b0-461c-d7b2-1de63923d165",
        "colab": {
          "base_uri": "https://localhost:8080/",
          "height": 52
        }
      },
      "source": [
        "print(xy_train.shape)\n",
        "print(xy_test.shape)"
      ],
      "execution_count": 11,
      "outputs": [
        {
          "output_type": "stream",
          "text": [
            "(155, 4)\n",
            "(40, 4)\n"
          ],
          "name": "stdout"
        }
      ]
    },
    {
      "cell_type": "markdown",
      "metadata": {
        "id": "BzxCcs_lwvsr",
        "colab_type": "text"
      },
      "source": [
        "The input feature Average Distanced Drived (plot observable below) does seem to have a slight linear relationship with the values to be predicted. There are plenty of lower values--speciffically, zeros--of Proportion Top-Ten Placements that pull the line downward. Also, Drive values are concentrated between 285 and 305. Both of these observations are expected given that placing in the top ten of any golf tournament is difficult and that the input feature is an average, hence the middle concentration. Overall, it seems safe to assume there is a slight correlation between driving distance and top-ten placements."
      ]
    },
    {
      "cell_type": "code",
      "metadata": {
        "id": "4hv-qGk7c7zY",
        "colab_type": "code",
        "outputId": "b3318682-4166-4197-f634-873909278d9a",
        "colab": {
          "base_uri": "https://localhost:8080/",
          "height": 283
        }
      },
      "source": [
        "plt.figure(figsize=(4,4))\n",
        "plt.plot(xy_train[:, 0], xy_train[:, 3], '.')\n",
        "plt.xlabel('average distanced drived')\n",
        "plt.ylabel('proportion of top-tens')\n",
        "plt.show()"
      ],
      "execution_count": 12,
      "outputs": [
        {
          "output_type": "display_data",
          "data": {
            "image/png": "[encoded data removed]",
            "text/plain": [
              "<Figure size 288x288 with 1 Axes>"
            ]
          },
          "metadata": {
            "tags": []
          }
        }
      ]
    },
    {
      "cell_type": "markdown",
      "metadata": {
        "id": "PV530Zkiwz5X",
        "colab_type": "text"
      },
      "source": [
        "Similarly to the previous input feature, the Accuracy Measure provides some semblance of a upward line. There are several outliers, particularly near the top of the graph, that pull the line out of a linear formation and again, the number of zeros strongly affect the outcome variable, but overall there is a relationship. It is intersting to point out that the most accurate player has a median proportion of top-tens, while a moderately accurate player has the highest proportion of top-ten placements. There also is a large cluster at the midpoint of accuracy, near the bottom of top-tens, potentially implying that average accuracy is enough to place in the top ten some of the time. Finally, just before the Accuracy Measure hits 4000, the absence of top-tens is no longer observed. This seems to imply that a greater measure of accuracy is more likely to land a player with a top-ten placement than not."
      ]
    },
    {
      "cell_type": "code",
      "metadata": {
        "id": "VHZxaAfljyPR",
        "colab_type": "code",
        "outputId": "efdfb0a3-c057-46c9-aee1-0f409fd2a984",
        "colab": {
          "base_uri": "https://localhost:8080/",
          "height": 283
        }
      },
      "source": [
        "plt.figure(figsize=(4,4))\n",
        "plt.plot(xy_train[:, 1], xy_train[:, 3], '.')\n",
        "plt.xlabel('accuracy measure')\n",
        "plt.ylabel('proportion of top-tens')\n",
        "plt.show()"
      ],
      "execution_count": 13,
      "outputs": [
        {
          "output_type": "display_data",
          "data": {
            "image/png": "[encoded data removed]",
            "text/plain": [
              "<Figure size 288x288 with 1 Axes>"
            ]
          },
          "metadata": {
            "tags": []
          }
        }
      ]
    },
    {
      "cell_type": "markdown",
      "metadata": {
        "id": "9wpS4D5Lzzc1",
        "colab_type": "text"
      },
      "source": [
        "The Experience Measure is the least linear and poses several interesting observations. First, some of the highest top-ten earners seem to have less than average experience, while the most experienced players have average or lower proportions of top-tens. This may be attributed to the less advantageous aspects of aging, such as more numerous injuries, not being able to bounce back from illness as swiftly, or greater familial responsibilities or obligations that take top priority over training. \n",
        "\n",
        "Second, while a cluster seems to have generated at the bottom-middle of the graph, there also seem to be quite a few players with average to below average experience earning quite a few top-ten placements. Those with greater experience have had less success generally. Maybe this indicates that something younger players are doing, whether with their equipment or training habits, may be attributing to this success. For future research, perhaps this measure would perform better with more robust features."
      ]
    },
    {
      "cell_type": "code",
      "metadata": {
        "id": "hBRjpJopkUNc",
        "colab_type": "code",
        "outputId": "1264c3aa-34c3-44d2-bacd-f725aebd4b88",
        "colab": {
          "base_uri": "https://localhost:8080/",
          "height": 283
        }
      },
      "source": [
        "plt.figure(figsize=(4,4))\n",
        "plt.plot(xy_train[:, 2], xy_train[:, 3], '.')\n",
        "plt.xlabel('experience measure')\n",
        "plt.ylabel('proportion of top-tens')\n",
        "plt.show()"
      ],
      "execution_count": 14,
      "outputs": [
        {
          "output_type": "display_data",
          "data": {
            "image/png": "[encoded data removed]",
            "text/plain": [
              "<Figure size 288x288 with 1 Axes>"
            ]
          },
          "metadata": {
            "tags": []
          }
        }
      ]
    },
    {
      "cell_type": "markdown",
      "metadata": {
        "id": "LzoNw---HunU",
        "colab_type": "text"
      },
      "source": [
        "Split both sets into corresponding X (inputs) and Y(outputs)"
      ]
    },
    {
      "cell_type": "code",
      "metadata": {
        "id": "1lzgacV3a-FQ",
        "colab_type": "code",
        "colab": {}
      },
      "source": [
        "x_train = xy_train[:, 0:3]\n",
        "y_train = xy_train[:, 3]\n",
        "x_test = xy_test[:, 0:3]\n",
        "y_test = xy_test[:, 3]"
      ],
      "execution_count": 0,
      "outputs": []
    },
    {
      "cell_type": "code",
      "metadata": {
        "id": "Ik209SOSbR9z",
        "colab_type": "code",
        "outputId": "e3b5ffe9-ddc9-48c4-a84e-7639f7298744",
        "colab": {
          "base_uri": "https://localhost:8080/",
          "height": 87
        }
      },
      "source": [
        "print(x_train.shape)\n",
        "print(x_test.shape)\n",
        "print(y_train.shape)\n",
        "print(y_test.shape)"
      ],
      "execution_count": 16,
      "outputs": [
        {
          "output_type": "stream",
          "text": [
            "(155, 3)\n",
            "(40, 3)\n",
            "(155,)\n",
            "(40,)\n"
          ],
          "name": "stdout"
        }
      ]
    },
    {
      "cell_type": "code",
      "metadata": {
        "id": "DJdEnfJKMZSj",
        "colab_type": "code",
        "colab": {}
      },
      "source": [
        "mean = x_train.mean(axis=0)\n",
        "x_train -= mean\n",
        "std = x_train.std(axis=0)\n",
        "x_train /= std\n",
        "\n",
        "x_test -= mean\n",
        "x_test /= std"
      ],
      "execution_count": 0,
      "outputs": []
    },
    {
      "cell_type": "markdown",
      "metadata": {
        "id": "EF0r8IGDSKqq",
        "colab_type": "text"
      },
      "source": [
        "#Prediction Evaluations of Several Types of Models"
      ]
    },
    {
      "cell_type": "markdown",
      "metadata": {
        "id": "XNjVaXcYIowx",
        "colab_type": "text"
      },
      "source": [
        "##Basic Linear Regression Model\n",
        "This first model will use linear activation since the output feature is a proportion. Given that these proportions lie between 0.0 and .61, I would like to see a model that predicts with an mean absolute error less than five percent (MAE < 0.05).  \n",
        "\n",
        "After calculations, it seems the model only predicts with 6.8 percent error. This covers approximately a tenth of the range of points, which is troublesome. However, the graphical output of predictions and real values does show a somewhat linear relationship. This is encouraging since the outcome could have been completely uncorrelated. Perhaps the linear neural network will reduce the error and tighten this pattern seen with this basic linear regression."
      ]
    },
    {
      "cell_type": "code",
      "metadata": {
        "id": "OT03EV_jbf4U",
        "colab_type": "code",
        "outputId": "c9e81b61-a664-4283-e08f-a1a4ff2b1c94",
        "colab": {
          "base_uri": "https://localhost:8080/",
          "height": 266
        }
      },
      "source": [
        "model = Sequential()\n",
        "model.add(Dense(1, input_dim = 3, activation='linear'))\n",
        "print(model.summary())"
      ],
      "execution_count": 18,
      "outputs": [
        {
          "output_type": "stream",
          "text": [
            "WARNING:tensorflow:From /usr/local/lib/python3.6/dist-packages/tensorflow/python/framework/op_def_library.py:263: colocate_with (from tensorflow.python.framework.ops) is deprecated and will be removed in a future version.\n",
            "Instructions for updating:\n",
            "Colocations handled automatically by placer.\n",
            "_________________________________________________________________\n",
            "Layer (type)                 Output Shape              Param #   \n",
            "=================================================================\n",
            "dense_1 (Dense)              (None, 1)                 4         \n",
            "=================================================================\n",
            "Total params: 4\n",
            "Trainable params: 4\n",
            "Non-trainable params: 0\n",
            "_________________________________________________________________\n",
            "None\n"
          ],
          "name": "stdout"
        }
      ]
    },
    {
      "cell_type": "code",
      "metadata": {
        "id": "OGp6Lh9ub2Fs",
        "colab_type": "code",
        "colab": {}
      },
      "source": [
        "model.compile(optimizer='sgd', loss='mse', metrics=['mae'])"
      ],
      "execution_count": 0,
      "outputs": []
    },
    {
      "cell_type": "code",
      "metadata": {
        "id": "A_s6UzARcHqw",
        "colab_type": "code",
        "outputId": "512e8185-5a7d-41ae-8468-0b59613c9a0b",
        "colab": {
          "base_uri": "https://localhost:8080/",
          "height": 1339
        }
      },
      "source": [
        "history = model.fit(x_train, y_train, epochs= 35, verbose = 2, batch_size=10, validation_data = (x_test, y_test))"
      ],
      "execution_count": 20,
      "outputs": [
        {
          "output_type": "stream",
          "text": [
            "WARNING:tensorflow:From /usr/local/lib/python3.6/dist-packages/tensorflow/python/ops/math_ops.py:3066: to_int32 (from tensorflow.python.ops.math_ops) is deprecated and will be removed in a future version.\n",
            "Instructions for updating:\n",
            "Use tf.cast instead.\n",
            "Train on 155 samples, validate on 40 samples\n",
            "Epoch 1/35\n",
            " - 1s - loss: 0.8613 - mean_absolute_error: 0.7294 - val_loss: 0.3968 - val_mean_absolute_error: 0.4936\n",
            "Epoch 2/35\n",
            " - 0s - loss: 0.5367 - mean_absolute_error: 0.5710 - val_loss: 0.2511 - val_mean_absolute_error: 0.4013\n",
            "Epoch 3/35\n",
            " - 0s - loss: 0.3523 - mean_absolute_error: 0.4628 - val_loss: 0.1631 - val_mean_absolute_error: 0.3305\n",
            "Epoch 4/35\n",
            " - 0s - loss: 0.2371 - mean_absolute_error: 0.3796 - val_loss: 0.1112 - val_mean_absolute_error: 0.2779\n",
            "Epoch 5/35\n",
            " - 0s - loss: 0.1671 - mean_absolute_error: 0.3156 - val_loss: 0.0773 - val_mean_absolute_error: 0.2348\n",
            "Epoch 6/35\n",
            " - 0s - loss: 0.1206 - mean_absolute_error: 0.2702 - val_loss: 0.0563 - val_mean_absolute_error: 0.2015\n",
            "Epoch 7/35\n",
            " - 0s - loss: 0.0890 - mean_absolute_error: 0.2296 - val_loss: 0.0412 - val_mean_absolute_error: 0.1724\n",
            "Epoch 8/35\n",
            " - 0s - loss: 0.0666 - mean_absolute_error: 0.1977 - val_loss: 0.0321 - val_mean_absolute_error: 0.1508\n",
            "Epoch 9/35\n",
            " - 0s - loss: 0.0516 - mean_absolute_error: 0.1735 - val_loss: 0.0257 - val_mean_absolute_error: 0.1339\n",
            "Epoch 10/35\n",
            " - 0s - loss: 0.0407 - mean_absolute_error: 0.1540 - val_loss: 0.0210 - val_mean_absolute_error: 0.1207\n",
            "Epoch 11/35\n",
            " - 0s - loss: 0.0329 - mean_absolute_error: 0.1379 - val_loss: 0.0175 - val_mean_absolute_error: 0.1096\n",
            "Epoch 12/35\n",
            " - 0s - loss: 0.0269 - mean_absolute_error: 0.1250 - val_loss: 0.0151 - val_mean_absolute_error: 0.1009\n",
            "Epoch 13/35\n",
            " - 0s - loss: 0.0225 - mean_absolute_error: 0.1137 - val_loss: 0.0132 - val_mean_absolute_error: 0.0931\n",
            "Epoch 14/35\n",
            " - 0s - loss: 0.0192 - mean_absolute_error: 0.1052 - val_loss: 0.0119 - val_mean_absolute_error: 0.0865\n",
            "Epoch 15/35\n",
            " - 0s - loss: 0.0167 - mean_absolute_error: 0.0972 - val_loss: 0.0109 - val_mean_absolute_error: 0.0812\n",
            "Epoch 16/35\n",
            " - 0s - loss: 0.0148 - mean_absolute_error: 0.0918 - val_loss: 0.0101 - val_mean_absolute_error: 0.0767\n",
            "Epoch 17/35\n",
            " - 0s - loss: 0.0135 - mean_absolute_error: 0.0877 - val_loss: 0.0095 - val_mean_absolute_error: 0.0729\n",
            "Epoch 18/35\n",
            " - 0s - loss: 0.0124 - mean_absolute_error: 0.0838 - val_loss: 0.0090 - val_mean_absolute_error: 0.0707\n",
            "Epoch 19/35\n",
            " - 0s - loss: 0.0116 - mean_absolute_error: 0.0810 - val_loss: 0.0088 - val_mean_absolute_error: 0.0689\n",
            "Epoch 20/35\n",
            " - 0s - loss: 0.0110 - mean_absolute_error: 0.0792 - val_loss: 0.0086 - val_mean_absolute_error: 0.0677\n",
            "Epoch 21/35\n",
            " - 0s - loss: 0.0105 - mean_absolute_error: 0.0770 - val_loss: 0.0084 - val_mean_absolute_error: 0.0668\n",
            "Epoch 22/35\n",
            " - 0s - loss: 0.0102 - mean_absolute_error: 0.0769 - val_loss: 0.0083 - val_mean_absolute_error: 0.0661\n",
            "Epoch 23/35\n",
            " - 0s - loss: 0.0100 - mean_absolute_error: 0.0765 - val_loss: 0.0082 - val_mean_absolute_error: 0.0654\n",
            "Epoch 24/35\n",
            " - 0s - loss: 0.0098 - mean_absolute_error: 0.0752 - val_loss: 0.0082 - val_mean_absolute_error: 0.0653\n",
            "Epoch 25/35\n",
            " - 0s - loss: 0.0096 - mean_absolute_error: 0.0755 - val_loss: 0.0081 - val_mean_absolute_error: 0.0651\n",
            "Epoch 26/35\n",
            " - 0s - loss: 0.0095 - mean_absolute_error: 0.0755 - val_loss: 0.0081 - val_mean_absolute_error: 0.0651\n",
            "Epoch 27/35\n",
            " - 0s - loss: 0.0095 - mean_absolute_error: 0.0755 - val_loss: 0.0081 - val_mean_absolute_error: 0.0651\n",
            "Epoch 28/35\n",
            " - 0s - loss: 0.0094 - mean_absolute_error: 0.0753 - val_loss: 0.0081 - val_mean_absolute_error: 0.0651\n",
            "Epoch 29/35\n",
            " - 0s - loss: 0.0094 - mean_absolute_error: 0.0746 - val_loss: 0.0081 - val_mean_absolute_error: 0.0652\n",
            "Epoch 30/35\n",
            " - 0s - loss: 0.0093 - mean_absolute_error: 0.0742 - val_loss: 0.0081 - val_mean_absolute_error: 0.0654\n",
            "Epoch 31/35\n",
            " - 0s - loss: 0.0093 - mean_absolute_error: 0.0746 - val_loss: 0.0081 - val_mean_absolute_error: 0.0654\n",
            "Epoch 32/35\n",
            " - 0s - loss: 0.0093 - mean_absolute_error: 0.0740 - val_loss: 0.0081 - val_mean_absolute_error: 0.0658\n",
            "Epoch 33/35\n",
            " - 0s - loss: 0.0093 - mean_absolute_error: 0.0745 - val_loss: 0.0081 - val_mean_absolute_error: 0.0660\n",
            "Epoch 34/35\n",
            " - 0s - loss: 0.0092 - mean_absolute_error: 0.0747 - val_loss: 0.0081 - val_mean_absolute_error: 0.0660\n",
            "Epoch 35/35\n",
            " - 0s - loss: 0.0093 - mean_absolute_error: 0.0745 - val_loss: 0.0081 - val_mean_absolute_error: 0.0663\n"
          ],
          "name": "stdout"
        }
      ]
    },
    {
      "cell_type": "code",
      "metadata": {
        "id": "PFvm7kQ6cWbW",
        "colab_type": "code",
        "colab": {}
      },
      "source": [
        "prediction = model.predict(x_test)"
      ],
      "execution_count": 0,
      "outputs": []
    },
    {
      "cell_type": "code",
      "metadata": {
        "id": "1vdEHi6Vc1xw",
        "colab_type": "code",
        "outputId": "43ae48a7-e6f1-4b95-8c1f-5b9c8ab6e887",
        "colab": {
          "base_uri": "https://localhost:8080/",
          "height": 35
        }
      },
      "source": [
        "print(y_test[0:5])"
      ],
      "execution_count": 22,
      "outputs": [
        {
          "output_type": "stream",
          "text": [
            "[0.31818182 0.125      0.06896552 0.17391304 0.11764706]\n"
          ],
          "name": "stdout"
        }
      ]
    },
    {
      "cell_type": "code",
      "metadata": {
        "id": "zLE9evp0c5RC",
        "colab_type": "code",
        "outputId": "1b45dbb6-c51d-4b00-b2f8-38c706922105",
        "colab": {
          "base_uri": "https://localhost:8080/",
          "height": 105
        }
      },
      "source": [
        "print(prediction[0:5])"
      ],
      "execution_count": 23,
      "outputs": [
        {
          "output_type": "stream",
          "text": [
            "[[0.11261877]\n",
            " [0.11726144]\n",
            " [0.12836944]\n",
            " [0.1728025 ]\n",
            " [0.09252936]]\n"
          ],
          "name": "stdout"
        }
      ]
    },
    {
      "cell_type": "code",
      "metadata": {
        "id": "7z6K6Bqckmzd",
        "colab_type": "code",
        "outputId": "541506b2-8dd6-4fae-abf6-963cbf1a8cb1",
        "colab": {
          "base_uri": "https://localhost:8080/",
          "height": 283
        }
      },
      "source": [
        "plt.figure(figsize=(4,4))\n",
        "plt.plot(y_test, prediction, '.')\n",
        "plt.xlabel('Correct values')\n",
        "plt.ylabel('Predictions')\n",
        "plt.show()"
      ],
      "execution_count": 24,
      "outputs": [
        {
          "output_type": "display_data",
          "data": {
            "image/png": "[encoded data removed]",
            "text/plain": [
              "<Figure size 288x288 with 1 Axes>"
            ]
          },
          "metadata": {
            "tags": []
          }
        }
      ]
    },
    {
      "cell_type": "code",
      "metadata": {
        "id": "oJGvb0qvRkXq",
        "colab_type": "code",
        "outputId": "57d0ba5d-a47d-4f5c-f8fa-13d0a55d7839",
        "colab": {
          "base_uri": "https://localhost:8080/",
          "height": 52
        }
      },
      "source": [
        "results = model.evaluate(x_test, y_test)\n",
        "print ('mae = ', results[1])"
      ],
      "execution_count": 25,
      "outputs": [
        {
          "output_type": "stream",
          "text": [
            "40/40 [==============================] - 0s 110us/step\n",
            "mae =  0.06627468839287758\n"
          ],
          "name": "stdout"
        }
      ]
    },
    {
      "cell_type": "markdown",
      "metadata": {
        "id": "QyaxeEOLKBGd",
        "colab_type": "text"
      },
      "source": [
        "## Neural Network (Linear)\n",
        "Unfortunately, it seems this neural network does not significantly improve upon the basic linear regression like I had hoped it would. The differnce in this and the previous model is only 0.0013. This model's 0.0673 error term is still quite large, though I am not well versed in neural network outcomes, so maybe this is acceptable. I am under the impression that an error rate of less than five percent is desirable, but this is in regression analysis. Still, I was hoping for a greater difference, though I am glad to see it at least came close and did actually improve the statistic. \n",
        "\n",
        "Now on to building a model using sigmoid activation. It will be interesting to see this outcome since the sigmoid activation is completely wrong for this type of dataset. I will be wildly upset if it even comes close to the predictions of the prior neural networks. Fingers crossed.\n"
      ]
    },
    {
      "cell_type": "code",
      "metadata": {
        "id": "n_PVBQ-BKAA2",
        "colab_type": "code",
        "outputId": "9f8e01b3-97f5-43f3-db9f-f25e1009aa21",
        "colab": {
          "base_uri": "https://localhost:8080/",
          "height": 1548
        }
      },
      "source": [
        "model = Sequential()\n",
        "model.add(Dense(8, input_dim = 3, activation='linear'))\n",
        "model.add(Dense(4, activation='linear'))\n",
        "model.add(Dense(2, activation='linear'))\n",
        "model.add(Dense(1, activation='linear'))\n",
        "print(model.summary())\n",
        "model.compile(loss='mse', optimizer='sgd', metrics=['mae'])\n",
        "history = model.fit(x_train, y_train, epochs=35, verbose = 2, batch_size=10, validation_data = (x_test, y_test))"
      ],
      "execution_count": 26,
      "outputs": [
        {
          "output_type": "stream",
          "text": [
            "_________________________________________________________________\n",
            "Layer (type)                 Output Shape              Param #   \n",
            "=================================================================\n",
            "dense_2 (Dense)              (None, 8)                 32        \n",
            "_________________________________________________________________\n",
            "dense_3 (Dense)              (None, 4)                 36        \n",
            "_________________________________________________________________\n",
            "dense_4 (Dense)              (None, 2)                 10        \n",
            "_________________________________________________________________\n",
            "dense_5 (Dense)              (None, 1)                 3         \n",
            "=================================================================\n",
            "Total params: 81\n",
            "Trainable params: 81\n",
            "Non-trainable params: 0\n",
            "_________________________________________________________________\n",
            "None\n",
            "Train on 155 samples, validate on 40 samples\n",
            "Epoch 1/35\n",
            " - 0s - loss: 0.3623 - mean_absolute_error: 0.4074 - val_loss: 0.0400 - val_mean_absolute_error: 0.1645\n",
            "Epoch 2/35\n",
            " - 0s - loss: 0.0496 - mean_absolute_error: 0.1690 - val_loss: 0.0212 - val_mean_absolute_error: 0.1213\n",
            "Epoch 3/35\n",
            " - 0s - loss: 0.0304 - mean_absolute_error: 0.1334 - val_loss: 0.0148 - val_mean_absolute_error: 0.0995\n",
            "Epoch 4/35\n",
            " - 0s - loss: 0.0207 - mean_absolute_error: 0.1127 - val_loss: 0.0120 - val_mean_absolute_error: 0.0875\n",
            "Epoch 5/35\n",
            " - 0s - loss: 0.0161 - mean_absolute_error: 0.0980 - val_loss: 0.0108 - val_mean_absolute_error: 0.0812\n",
            "Epoch 6/35\n",
            " - 0s - loss: 0.0135 - mean_absolute_error: 0.0868 - val_loss: 0.0095 - val_mean_absolute_error: 0.0734\n",
            "Epoch 7/35\n",
            " - 0s - loss: 0.0120 - mean_absolute_error: 0.0823 - val_loss: 0.0089 - val_mean_absolute_error: 0.0696\n",
            "Epoch 8/35\n",
            " - 0s - loss: 0.0109 - mean_absolute_error: 0.0786 - val_loss: 0.0084 - val_mean_absolute_error: 0.0682\n",
            "Epoch 9/35\n",
            " - 0s - loss: 0.0103 - mean_absolute_error: 0.0786 - val_loss: 0.0083 - val_mean_absolute_error: 0.0659\n",
            "Epoch 10/35\n",
            " - 0s - loss: 0.0099 - mean_absolute_error: 0.0760 - val_loss: 0.0083 - val_mean_absolute_error: 0.0655\n",
            "Epoch 11/35\n",
            " - 0s - loss: 0.0098 - mean_absolute_error: 0.0758 - val_loss: 0.0085 - val_mean_absolute_error: 0.0663\n",
            "Epoch 12/35\n",
            " - 0s - loss: 0.0096 - mean_absolute_error: 0.0751 - val_loss: 0.0086 - val_mean_absolute_error: 0.0692\n",
            "Epoch 13/35\n",
            " - 0s - loss: 0.0097 - mean_absolute_error: 0.0767 - val_loss: 0.0084 - val_mean_absolute_error: 0.0685\n",
            "Epoch 14/35\n",
            " - 0s - loss: 0.0096 - mean_absolute_error: 0.0770 - val_loss: 0.0081 - val_mean_absolute_error: 0.0659\n",
            "Epoch 15/35\n",
            " - 0s - loss: 0.0095 - mean_absolute_error: 0.0749 - val_loss: 0.0083 - val_mean_absolute_error: 0.0682\n",
            "Epoch 16/35\n",
            " - 0s - loss: 0.0095 - mean_absolute_error: 0.0756 - val_loss: 0.0083 - val_mean_absolute_error: 0.0681\n",
            "Epoch 17/35\n",
            " - 0s - loss: 0.0094 - mean_absolute_error: 0.0751 - val_loss: 0.0080 - val_mean_absolute_error: 0.0658\n",
            "Epoch 18/35\n",
            " - 0s - loss: 0.0094 - mean_absolute_error: 0.0749 - val_loss: 0.0082 - val_mean_absolute_error: 0.0669\n",
            "Epoch 19/35\n",
            " - 0s - loss: 0.0094 - mean_absolute_error: 0.0744 - val_loss: 0.0083 - val_mean_absolute_error: 0.0671\n",
            "Epoch 20/35\n",
            " - 0s - loss: 0.0095 - mean_absolute_error: 0.0745 - val_loss: 0.0082 - val_mean_absolute_error: 0.0670\n",
            "Epoch 21/35\n",
            " - 0s - loss: 0.0095 - mean_absolute_error: 0.0742 - val_loss: 0.0084 - val_mean_absolute_error: 0.0681\n",
            "Epoch 22/35\n",
            " - 0s - loss: 0.0094 - mean_absolute_error: 0.0749 - val_loss: 0.0082 - val_mean_absolute_error: 0.0668\n",
            "Epoch 23/35\n",
            " - 0s - loss: 0.0094 - mean_absolute_error: 0.0742 - val_loss: 0.0080 - val_mean_absolute_error: 0.0671\n",
            "Epoch 24/35\n",
            " - 0s - loss: 0.0094 - mean_absolute_error: 0.0748 - val_loss: 0.0082 - val_mean_absolute_error: 0.0667\n",
            "Epoch 25/35\n",
            " - 0s - loss: 0.0094 - mean_absolute_error: 0.0736 - val_loss: 0.0080 - val_mean_absolute_error: 0.0668\n",
            "Epoch 26/35\n",
            " - 0s - loss: 0.0093 - mean_absolute_error: 0.0749 - val_loss: 0.0085 - val_mean_absolute_error: 0.0679\n",
            "Epoch 27/35\n",
            " - 0s - loss: 0.0096 - mean_absolute_error: 0.0752 - val_loss: 0.0085 - val_mean_absolute_error: 0.0678\n",
            "Epoch 28/35\n",
            " - 0s - loss: 0.0095 - mean_absolute_error: 0.0740 - val_loss: 0.0083 - val_mean_absolute_error: 0.0673\n",
            "Epoch 29/35\n",
            " - 0s - loss: 0.0095 - mean_absolute_error: 0.0747 - val_loss: 0.0082 - val_mean_absolute_error: 0.0670\n",
            "Epoch 30/35\n",
            " - 0s - loss: 0.0094 - mean_absolute_error: 0.0739 - val_loss: 0.0082 - val_mean_absolute_error: 0.0674\n",
            "Epoch 31/35\n",
            " - 0s - loss: 0.0092 - mean_absolute_error: 0.0752 - val_loss: 0.0084 - val_mean_absolute_error: 0.0678\n",
            "Epoch 32/35\n",
            " - 0s - loss: 0.0095 - mean_absolute_error: 0.0742 - val_loss: 0.0084 - val_mean_absolute_error: 0.0677\n",
            "Epoch 33/35\n",
            " - 0s - loss: 0.0095 - mean_absolute_error: 0.0746 - val_loss: 0.0086 - val_mean_absolute_error: 0.0684\n",
            "Epoch 34/35\n",
            " - 0s - loss: 0.0094 - mean_absolute_error: 0.0735 - val_loss: 0.0084 - val_mean_absolute_error: 0.0675\n",
            "Epoch 35/35\n",
            " - 0s - loss: 0.0094 - mean_absolute_error: 0.0729 - val_loss: 0.0081 - val_mean_absolute_error: 0.0671\n"
          ],
          "name": "stdout"
        }
      ]
    },
    {
      "cell_type": "code",
      "metadata": {
        "id": "7Kl2DDnsJzJu",
        "colab_type": "code",
        "outputId": "c86d61e5-140f-4337-989e-9af8990d01b4",
        "colab": {
          "base_uri": "https://localhost:8080/",
          "height": 283
        }
      },
      "source": [
        "prediction = model.predict(x_test)\n",
        "plt.figure(figsize=(4,4))\n",
        "plt.plot(y_test, prediction, '.')\n",
        "plt.xlabel('Correct values')\n",
        "plt.ylabel('Predictions')\n",
        "plt.show()"
      ],
      "execution_count": 27,
      "outputs": [
        {
          "output_type": "display_data",
          "data": {
            "image/png": "[encoded data removed]",
            "text/plain": [
              "<Figure size 288x288 with 1 Axes>"
            ]
          },
          "metadata": {
            "tags": []
          }
        }
      ]
    },
    {
      "cell_type": "code",
      "metadata": {
        "id": "IjxrA462Kea6",
        "colab_type": "code",
        "outputId": "09059ce6-9498-42f8-ea43-cbc48e8a79df",
        "colab": {
          "base_uri": "https://localhost:8080/",
          "height": 52
        }
      },
      "source": [
        "results = model.evaluate(x_test, y_test)\n",
        "print ('mae = ', results[1])"
      ],
      "execution_count": 28,
      "outputs": [
        {
          "output_type": "stream",
          "text": [
            "40/40 [==============================] - 0s 114us/step\n",
            "mae =  0.06712021678686142\n"
          ],
          "name": "stdout"
        }
      ]
    },
    {
      "cell_type": "markdown",
      "metadata": {
        "id": "SDkAOsfnaS76",
        "colab_type": "text"
      },
      "source": [
        "##Function to Represent Model\n",
        "After concluding that this neural network does the best job at predicting top-ten placements, it was decided that this model is the best one to build a function that emulates it. The activations were linear and four layers were used, so I need to find the weights of each input feature and multiply those by the ..."
      ]
    },
    {
      "cell_type": "code",
      "metadata": {
        "id": "fJSyqw5seqHW",
        "colab_type": "code",
        "outputId": "cbbebfd0-cb7c-4878-af3e-9e255afc0451",
        "colab": {
          "base_uri": "https://localhost:8080/",
          "height": 70
        }
      },
      "source": [
        "#code for function that represents previous NN\n",
        "\n",
        "#weights by layer\n",
        "weights_layer1 = model.layers[0].get_weights()[0]\n",
        "weights_layer2 = model.layers[1].get_weights()[0]\n",
        "weights_layer3 = model.layers[2].get_weights()[0]\n",
        "weights_layer4 = model.layers[3].get_weights()[0]\n",
        "\n",
        "#biases by layer\n",
        "biases_layer1 = model.layers[0].get_weights()[1]\n",
        "biases_layer2 = model.layers[1].get_weights()[1]\n",
        "biases_layer3 = model.layers[2].get_weights()[1]\n",
        "biases_layer4 = model.layers[3].get_weights()[1]\n",
        "\n",
        "#print(len(xy))\n",
        "#print(len(weights_layer1[0]), len(weights_layer2), len(weights_layer3))\n",
        "\n",
        "\"\"\"\n",
        "print(\"\\nThese are weights:\", weights_layer1)\n",
        "print(\"\\nThese are weights:\", weights_layer2)\n",
        "print(\"\\nThese are weights:\", weights_layer3)\n",
        "print(\"\\nThese are weights:\", weights_layer4)\n",
        "\n",
        "print(\"\\nThese are biases:\", biases_layer1)\n",
        "print(\"\\nThese are biases:\", biases_layer2)\n",
        "print(\"\\nThese are biases:\", biases_layer3)\n",
        "print(\"\\nThese are biases:\", biases_layer4)\n",
        "\n",
        "#print(\"xy:\", xy)\n",
        "\"\"\"\n",
        "\n",
        "my_predictions = []\n",
        "\n",
        "#print(len(xy))  # is 195\n",
        "#print(len(xy[0])) # is 4\n",
        "\n",
        "for k in range(len(x_test)):#for each prediction\n",
        "\n",
        "  #neuron declaration and initialization\n",
        "  n1_l1 = 0\n",
        "  n2_l1 = 0\n",
        "  n3_l1 = 0\n",
        "  n4_l1 = 0\n",
        "  n5_l1 = 0\n",
        "  n6_l1 = 0\n",
        "  n7_l1 = 0\n",
        "  n8_l1 = 0\n",
        "\n",
        "  n1_l2 = 0\n",
        "  n2_l2 = 0\n",
        "  n3_l2 = 0\n",
        "  n4_l2 = 0\n",
        "\n",
        "  n1_l3 = 0\n",
        "  n2_l3 = 0\n",
        "\n",
        "  n1_l4 = 0\n",
        "\n",
        "  #INPUT FEATURES TO LAYER ONE\n",
        "  #multiply the first input feature's kth value by \n",
        "  #the weights respective to the next layer of neurons\n",
        "  counter = 0\n",
        "  for ix in weights_layer1[0]:\n",
        "    if counter == 7:\n",
        "      n8_l1 += x_test[k]*ix    \n",
        "    if counter == 6:\n",
        "      n7_l1 += x_test[k]*ix\n",
        "      counter += 1\n",
        "    if counter == 5:\n",
        "      n6_l1 += x_test[k]*ix\n",
        "      counter += 1\n",
        "    if counter == 4:\n",
        "      n5_l1 += x_test[k]*ix\n",
        "      counter += 1\n",
        "    if counter == 3:\n",
        "      n4_l1 += x_test[k]*ix\n",
        "      counter += 1\n",
        "    if counter == 2:\n",
        "      n3_l1 += x_test[k]*ix\n",
        "      counter += 1\n",
        "    if counter == 1:\n",
        "      n2_l1 += x_test[k]*ix\n",
        "      counter += 1     \n",
        "    if counter == 0:\n",
        "      n1_l1 += x_test[k]*ix\n",
        "      counter += 1\n",
        "\n",
        "  #multiply the second input feature's kth value by \n",
        "  #the weights respective to the next layer of neurons  \n",
        "  counter = 0\n",
        "  for ix in weights_layer1[1]:\n",
        "    if counter == 7:\n",
        "      n8_l1 += x_test[k]*ix    \n",
        "    if counter == 6:\n",
        "      n7_l1 += x_test[k]*ix\n",
        "      counter += 1\n",
        "    if counter == 5:\n",
        "      n6_l1 += x_test[k]*ix\n",
        "      counter += 1\n",
        "    if counter == 4:  \n",
        "      n5_l1 += x_test[k]*ix\n",
        "      counter += 1\n",
        "    if counter == 3:\n",
        "      n4_l1 += x_test[k]*ix\n",
        "      counter += 1\n",
        "    if counter == 2:\n",
        "      n3_l1 += x_test[k]*ix\n",
        "      counter += 1\n",
        "    if counter == 1:\n",
        "      n2_l1 += x_test[k]*ix\n",
        "      counter += 1     \n",
        "    if counter == 0:\n",
        "      n1_l1 += x_test[k]*ix\n",
        "      counter += 1\n",
        "\n",
        "  #multiply the third input feature's kth value by \n",
        "  #the weights respective to the next layer of neurons\n",
        "  counter = 0\n",
        "  for ix in weights_layer1[2]:\n",
        "    if counter == 7:\n",
        "      n8_l1 += x_test[k]*ix    \n",
        "    if counter == 6:\n",
        "      n7_l1 += x_test[k]*ix\n",
        "      counter += 1\n",
        "    if counter == 5:\n",
        "      n6_l1 += x_test[k]*ix\n",
        "      counter += 1\n",
        "    if counter == 4:  \n",
        "      n5_l1 += x_test[k]*ix\n",
        "      counter += 1\n",
        "    if counter == 3:\n",
        "      n4_l1 += x_test[k]*ix\n",
        "      counter += 1\n",
        "    if counter == 2:\n",
        "      n3_l1 += x_test[k]*ix\n",
        "      counter += 1\n",
        "    if counter == 1:\n",
        "      n2_l1 += x_test[k]*ix\n",
        "      counter += 1     \n",
        "    if counter == 0:\n",
        "      n1_l1 += x_test[k]*ix\n",
        "      counter += 1\n",
        "\n",
        "  #add respective biases to each of the neurons\n",
        "  n1_l1 += biases_layer1[0]\n",
        "  n2_l1 += biases_layer1[1]\n",
        "  n3_l1 += biases_layer1[2]\n",
        "  n4_l1 += biases_layer1[3]\n",
        "  n5_l1 += biases_layer1[4]\n",
        "  n6_l1 += biases_layer1[5]\n",
        "  n7_l1 += biases_layer1[6]\n",
        "  n8_l1 += biases_layer1[7]\n",
        "\n",
        "  #make list of the first layer neurons for next part of NN\n",
        "  l1_neurons = [n1_l1, n2_l1, n3_l1, n4_l1, n5_l1, n6_l1, n7_l1, n8_l1]\n",
        "\n",
        "  #LAYER TWO\n",
        "  #multiply the first neuron from layer one by the weights \n",
        "  #respective to the next layer of neurons\n",
        "  counter = 0\n",
        "  for ix in weights_layer2[0]:\n",
        "    for j in range(len(l1_neurons)):\n",
        "      if counter == 3:\n",
        "        n4_l2 += l1_neurons[j]*ix\n",
        "      if counter == 2:\n",
        "        n3_l2 += l1_neurons[j]*ix\n",
        "        counter += 1\n",
        "      if counter == 1:\n",
        "        n2_l2 += l1_neurons[j]*ix\n",
        "        counter += 1     \n",
        "      if counter == 0:\n",
        "        n1_l2 += l1_neurons[j]*ix\n",
        "        counter += 1     \n",
        "\n",
        "  #multiply the second neuron from layer one by the weights \n",
        "  #respective to the next layer of neurons      \n",
        "  counter = 0\n",
        "  for ix in weights_layer2[1]:\n",
        "    for j in range(len(l1_neurons)):\n",
        "      if counter == 3:\n",
        "        n4_l2 += l1_neurons[j]*ix\n",
        "      if counter == 2:\n",
        "        n3_l2 += l1_neurons[j]*ix\n",
        "        counter += 1\n",
        "      if counter == 1:\n",
        "        n2_l2 += l1_neurons[j]*ix\n",
        "        counter += 1     \n",
        "      if counter == 0:\n",
        "        n1_l2 += l1_neurons[j]*ix\n",
        "        counter += 1 \n",
        "\t\t  \n",
        "  #multiply the third neuron from layer one by the weights \n",
        "  #respective to the next layer of neurons  \n",
        "  counter = 0\n",
        "  for ix in weights_layer2[2]:\n",
        "    for j in range(len(l1_neurons)):\n",
        "      if counter == 3:\n",
        "        n4_l2 += l1_neurons[j]*ix\n",
        "      if counter == 2:\n",
        "        n3_l2 += l1_neurons[j]*ix\n",
        "        counter += 1\n",
        "      if counter == 1:\n",
        "        n2_l2 += l1_neurons[j]*ix\n",
        "        counter += 1     \n",
        "      if counter == 0:\n",
        "        n1_l2 += l1_neurons[j]*ix\n",
        "        counter += 1    \n",
        "\t\t  \n",
        "  #multiply the fourth neuron from layer one by the weights \n",
        "  #respective to the next layer of neurons  \n",
        "  counter = 0\n",
        "  for ix in weights_layer2[3]:\n",
        "    for j in range(len(l1_neurons)):\n",
        "      if counter == 3:\n",
        "        n4_l2 += l1_neurons[j]*ix\n",
        "      if counter == 2:\n",
        "        n3_l2 += l1_neurons[j]*ix\n",
        "        counter += 1\n",
        "      if counter == 1:\n",
        "        n2_l2 += l1_neurons[j]*ix\n",
        "        counter += 1     \n",
        "      if counter == 0:\n",
        "        n1_l2 += l1_neurons[j]*ix\n",
        "        counter += 1  \n",
        "\t\t  \n",
        "  #multiply the fifth neuron from layer one by the weights \n",
        "  #respective to the next layer of neurons      \n",
        "  counter = 0\n",
        "  for ix in weights_layer2[4]:\n",
        "    for j in range(len(l1_neurons)):\n",
        "      if counter == 3:\n",
        "        n4_l2 += l1_neurons[j]*ix\n",
        "      if counter == 2:\n",
        "        n3_l2 += l1_neurons[j]*ix\n",
        "        counter += 1\n",
        "      if counter == 1:\n",
        "        n2_l2 += l1_neurons[j]*ix\n",
        "        counter += 1     \n",
        "      if counter == 0:\n",
        "        n1_l2 += l1_neurons[j]*ix\n",
        "        counter += 1    \n",
        "\n",
        "  #multiply the sixth neuron from layer one by the weights \n",
        "  #respective to the next layer of neurons  \n",
        "  counter = 0\n",
        "  for ix in weights_layer2[5]:\n",
        "    for j in range(len(l1_neurons)):\n",
        "      if counter == 3:\n",
        "        n4_l2 += l1_neurons[j]*ix\n",
        "      if counter == 2:\n",
        "        n3_l2 += l1_neurons[j]*ix\n",
        "        counter += 1\n",
        "      if counter == 1:\n",
        "        n2_l2 += l1_neurons[j]*ix\n",
        "        counter += 1     \n",
        "      if counter == 0:\n",
        "        n1_l2 += l1_neurons[j]*ix\n",
        "        counter += 1    \n",
        "\t\t  \n",
        "  #multiply the seventh neuron from layer one by the weights \n",
        "  #respective to the next layer of neurons  \n",
        "  counter = 0\n",
        "  for ix in weights_layer2[6]:\n",
        "    for j in range(len(l1_neurons)):\n",
        "      if counter == 3:\n",
        "        n4_l2 += l1_neurons[j]*ix\n",
        "      if counter == 2:\n",
        "        n3_l2 += l1_neurons[j]*ix\n",
        "        counter += 1\n",
        "      if counter == 1:\n",
        "        n2_l2 += l1_neurons[j]*ix\n",
        "        counter += 1     \n",
        "      if counter == 0:\n",
        "        n1_l2 += l1_neurons[j]*ix\n",
        "        counter += 1    \n",
        "\t\t  \n",
        "  #multiply the eighth neuron from layer one by the weights \n",
        "  #respective to the next layer of neurons  \n",
        "  counter = 0\n",
        "  for ix in weights_layer2[7]:\n",
        "    for j in range(len(l1_neurons)):\n",
        "      if counter == 3:\n",
        "        n4_l2 += l1_neurons[j]*ix\n",
        "      if counter == 2:\n",
        "        n3_l2 += l1_neurons[j]*ix\n",
        "        counter += 1\n",
        "      if counter == 1:\n",
        "        n2_l2 += l1_neurons[j]*ix\n",
        "        counter += 1     \n",
        "      if counter == 0:\n",
        "        n1_l2 += l1_neurons[j]*ix\n",
        "        counter += 1    \n",
        "\t  \n",
        "  #add respective biases to each of the neurons  \n",
        "  n1_l2 += biases_layer2[0]\n",
        "  n2_l2 += biases_layer2[1]\n",
        "  n3_l2 += biases_layer2[2]\n",
        "  n4_l2 += biases_layer2[3] \n",
        "\n",
        "  #make list of neuronic activity so far    \n",
        "  l2_neurons = [n1_l2, n2_l2, n3_l2, n4_l2]\n",
        "\n",
        "  #LAYER THREE\n",
        "  #multiply the first neuron from layer two by the weights \n",
        "  #respective to the next layer of neurons \n",
        "  counter = 0\n",
        "  for ix in weights_layer3[0]:\n",
        "    for j in range(len(l2_neurons)):\n",
        "      if counter == 1:\n",
        "        n2_l3 += l2_neurons[j]*ix\n",
        "      if counter == 0:\n",
        "        n1_l3 += l2_neurons[j]*ix\n",
        "        counter += 1\n",
        "\n",
        "  #multiply the second neuron from layer two by the weights \n",
        "  #respective to the next layer of neurons       \n",
        "  counter = 0\n",
        "  for ix in weights_layer3[1]:\n",
        "    for j in range(len(l2_neurons)):\n",
        "      if counter == 1:\n",
        "        n2_l3 += l2_neurons[j]*ix\n",
        "      if counter == 0:\n",
        "        n1_l3 += l2_neurons[j]*ix\n",
        "        counter += 1\n",
        "\n",
        "  #multiply the third neuron from layer two by the weights \n",
        "  #respective to the next layer of neurons   \n",
        "  counter = 0\n",
        "  for ix in weights_layer3[2]:\n",
        "    for j in range(len(l2_neurons)):\n",
        "      if counter == 1:\n",
        "        n2_l3 += l2_neurons[j]*ix\n",
        "      if counter == 0:\n",
        "        n1_l3 += l2_neurons[j]*ix\n",
        "        counter += 1\n",
        "\t\t  \n",
        "  #multiply the fourth neuron from layer two by the weights \n",
        "  #respective to the next layer of neurons   \n",
        "  counter = 0\n",
        "  for ix in weights_layer3[3]:\n",
        "    for j in range(len(l2_neurons)):\n",
        "      if counter == 1:\n",
        "        n2_l3 += l2_neurons[j]*ix\n",
        "      if counter == 0:\n",
        "        n1_l3 += l2_neurons[j]*ix\n",
        "        counter += 1\n",
        "\n",
        "  #add respective biases to each of the neurons        \n",
        "  n1_l3 += biases_layer3[0]\n",
        "  n2_l3 += biases_layer3[1]\n",
        "\n",
        "  #layer three list of neurons\n",
        "  l3_neurons = [n1_l3, n2_l3]\n",
        "\n",
        "  #create output layer by multiplying the prior \n",
        "  #neuron layer by the respective weights \n",
        "  for ix in weights_layer4[0]:\n",
        "    for j in range(len(l3_neurons)):\n",
        "      n1_l4 += l3_neurons[j]*ix\n",
        "\n",
        "  for ix in weights_layer4[1]:\n",
        "    for j in range(len(l3_neurons)):\n",
        "      n1_l4 += l3_neurons[j]*ix\n",
        "\n",
        "  #add the final bias to the output layer\n",
        "  n1_l4 += biases_layer4[0]\n",
        "  #print(\"\\nThis is the output\", k, n1_l4)\n",
        "  \n",
        "  my_predictions.append(sum(n1_l4))\n",
        "  \n",
        "#the moment we've all been waiting for...\n",
        "#print(\"\\nResults:\", [\"{0:0.9f}\".format(i) for i in my_predictions])\n",
        "\n",
        "#print(\"\\nReal Values:\")\n",
        "#for i in range(len(xy)):\n",
        "#  print(xy[i][3])\n",
        "\n",
        "  \n",
        "SAEs = []\n",
        "\n",
        "#print(\"\\n\")\n",
        "#print(x_test)\n",
        "#print(\"\\n\")\n",
        "#print(y_test)\n",
        "\n",
        "for i in range(len(y_test)):\n",
        "  SAEs.append(abs(y_test[i] - my_predictions[i]))\n",
        "print(\"\\n\")\n",
        "print(\"'SAE' of hand written model =\", (sum(SAEs))/(len(y_test)))\n",
        "\n"
      ],
      "execution_count": 72,
      "outputs": [
        {
          "output_type": "stream",
          "text": [
            "\n",
            "\n",
            "'SAE' of hand written model = 0.1646161469948166\n"
          ],
          "name": "stdout"
        }
      ]
    },
    {
      "cell_type": "markdown",
      "metadata": {
        "id": "Ju6bAmTQDqtY",
        "colab_type": "text"
      },
      "source": [
        "##Interpretation of Function Results (directly above)\n",
        "\n",
        "So, my \"sae\" is off by approximately 0.103, which is quite a lot given the data. I have tried multiple fixes, including checking and rechecking my loop logic and making sure the right values are showing up in the right places. Perhaps I am missing a step that the Keras neural network performs that I am unaware of. I did my best to emulate the Multilayered Feed-Forward Neural Networks that we studied in Chapter 18. The weights and biases were extracted directly from the model made in the 'Neural Network - Linear' area of this project. Seeing that my results are worse than any of the models done with the Keras software is disheartening, but also somewhat expected since the software has been optimized by far more experienced programmers than I am. I will continue to work on this function and improve upon it if I can by the project presentations."
      ]
    },
    {
      "cell_type": "markdown",
      "metadata": {
        "id": "oFzEermlOLfl",
        "colab_type": "text"
      },
      "source": [
        "##Neural Network - Sigmoid\n",
        "This neural network does an absolutely abismal job of predicting the values, so much so that comparatively, the previous NN looks amazing. It is great to see how changing one thing--albeit a very impactful thing--can make or break the model. The plot below shows no relationship between real values and predictions, unlike the somewhat linear relationship shown directly above. If the input features, particularly the Experience Measure, were more robust, I believe the linear NN would have performed better. "
      ]
    },
    {
      "cell_type": "code",
      "metadata": {
        "id": "Rj93jC_gRzWq",
        "colab_type": "code",
        "outputId": "6261d915-b3da-4033-98ef-25c8dcbd5582",
        "colab": {
          "base_uri": "https://localhost:8080/",
          "height": 1548
        }
      },
      "source": [
        "model = Sequential()\n",
        "model.add(Dense(8, input_dim = 3, activation='sigmoid'))\n",
        "model.add(Dense(4, activation='sigmoid'))\n",
        "model.add(Dense(2, activation='sigmoid'))\n",
        "model.add(Dense(1, activation='sigmoid'))\n",
        "print(model.summary())\n",
        "model.compile(loss='mse', optimizer='sgd', metrics=['mae'])\n",
        "history = model.fit(x_train, y_train, epochs=35, verbose = 2, batch_size=10, validation_data = (x_test, y_test))"
      ],
      "execution_count": 73,
      "outputs": [
        {
          "output_type": "stream",
          "text": [
            "_________________________________________________________________\n",
            "Layer (type)                 Output Shape              Param #   \n",
            "=================================================================\n",
            "dense_6 (Dense)              (None, 8)                 32        \n",
            "_________________________________________________________________\n",
            "dense_7 (Dense)              (None, 4)                 36        \n",
            "_________________________________________________________________\n",
            "dense_8 (Dense)              (None, 2)                 10        \n",
            "_________________________________________________________________\n",
            "dense_9 (Dense)              (None, 1)                 3         \n",
            "=================================================================\n",
            "Total params: 81\n",
            "Trainable params: 81\n",
            "Non-trainable params: 0\n",
            "_________________________________________________________________\n",
            "None\n",
            "Train on 155 samples, validate on 40 samples\n",
            "Epoch 1/35\n",
            " - 0s - loss: 0.3066 - mean_absolute_error: 0.5431 - val_loss: 0.2702 - val_mean_absolute_error: 0.5107\n",
            "Epoch 2/35\n",
            " - 0s - loss: 0.2908 - mean_absolute_error: 0.5285 - val_loss: 0.2553 - val_mean_absolute_error: 0.4959\n",
            "Epoch 3/35\n",
            " - 0s - loss: 0.2754 - mean_absolute_error: 0.5136 - val_loss: 0.2410 - val_mean_absolute_error: 0.4813\n",
            "Epoch 4/35\n",
            " - 0s - loss: 0.2607 - mean_absolute_error: 0.4991 - val_loss: 0.2272 - val_mean_absolute_error: 0.4667\n",
            "Epoch 5/35\n",
            " - 0s - loss: 0.2464 - mean_absolute_error: 0.4846 - val_loss: 0.2140 - val_mean_absolute_error: 0.4523\n",
            "Epoch 6/35\n",
            " - 0s - loss: 0.2328 - mean_absolute_error: 0.4708 - val_loss: 0.2014 - val_mean_absolute_error: 0.4382\n",
            "Epoch 7/35\n",
            " - 0s - loss: 0.2198 - mean_absolute_error: 0.4568 - val_loss: 0.1894 - val_mean_absolute_error: 0.4243\n",
            "Epoch 8/35\n",
            " - 0s - loss: 0.2075 - mean_absolute_error: 0.4434 - val_loss: 0.1781 - val_mean_absolute_error: 0.4108\n",
            "Epoch 9/35\n",
            " - 0s - loss: 0.1958 - mean_absolute_error: 0.4304 - val_loss: 0.1675 - val_mean_absolute_error: 0.3977\n",
            "Epoch 10/35\n",
            " - 0s - loss: 0.1849 - mean_absolute_error: 0.4177 - val_loss: 0.1575 - val_mean_absolute_error: 0.3848\n",
            "Epoch 11/35\n",
            " - 0s - loss: 0.1745 - mean_absolute_error: 0.4054 - val_loss: 0.1481 - val_mean_absolute_error: 0.3724\n",
            "Epoch 12/35\n",
            " - 0s - loss: 0.1648 - mean_absolute_error: 0.3935 - val_loss: 0.1392 - val_mean_absolute_error: 0.3603\n",
            "Epoch 13/35\n",
            " - 0s - loss: 0.1556 - mean_absolute_error: 0.3820 - val_loss: 0.1310 - val_mean_absolute_error: 0.3487\n",
            "Epoch 14/35\n",
            " - 0s - loss: 0.1471 - mean_absolute_error: 0.3708 - val_loss: 0.1234 - val_mean_absolute_error: 0.3377\n",
            "Epoch 15/35\n",
            " - 0s - loss: 0.1392 - mean_absolute_error: 0.3601 - val_loss: 0.1163 - val_mean_absolute_error: 0.3270\n",
            "Epoch 16/35\n",
            " - 0s - loss: 0.1319 - mean_absolute_error: 0.3501 - val_loss: 0.1097 - val_mean_absolute_error: 0.3167\n",
            "Epoch 17/35\n",
            " - 0s - loss: 0.1249 - mean_absolute_error: 0.3401 - val_loss: 0.1036 - val_mean_absolute_error: 0.3068\n",
            "Epoch 18/35\n",
            " - 0s - loss: 0.1185 - mean_absolute_error: 0.3308 - val_loss: 0.0978 - val_mean_absolute_error: 0.2973\n",
            "Epoch 19/35\n",
            " - 0s - loss: 0.1125 - mean_absolute_error: 0.3217 - val_loss: 0.0925 - val_mean_absolute_error: 0.2882\n",
            "Epoch 20/35\n",
            " - 0s - loss: 0.1069 - mean_absolute_error: 0.3130 - val_loss: 0.0876 - val_mean_absolute_error: 0.2795\n",
            "Epoch 21/35\n",
            " - 0s - loss: 0.1017 - mean_absolute_error: 0.3049 - val_loss: 0.0830 - val_mean_absolute_error: 0.2712\n",
            "Epoch 22/35\n",
            " - 0s - loss: 0.0969 - mean_absolute_error: 0.2971 - val_loss: 0.0787 - val_mean_absolute_error: 0.2633\n",
            "Epoch 23/35\n",
            " - 0s - loss: 0.0924 - mean_absolute_error: 0.2896 - val_loss: 0.0748 - val_mean_absolute_error: 0.2560\n",
            "Epoch 24/35\n",
            " - 0s - loss: 0.0882 - mean_absolute_error: 0.2823 - val_loss: 0.0711 - val_mean_absolute_error: 0.2491\n",
            "Epoch 25/35\n",
            " - 0s - loss: 0.0843 - mean_absolute_error: 0.2755 - val_loss: 0.0677 - val_mean_absolute_error: 0.2424\n",
            "Epoch 26/35\n",
            " - 0s - loss: 0.0807 - mean_absolute_error: 0.2690 - val_loss: 0.0644 - val_mean_absolute_error: 0.2362\n",
            "Epoch 27/35\n",
            " - 0s - loss: 0.0772 - mean_absolute_error: 0.2628 - val_loss: 0.0615 - val_mean_absolute_error: 0.2304\n",
            "Epoch 28/35\n",
            " - 0s - loss: 0.0740 - mean_absolute_error: 0.2567 - val_loss: 0.0587 - val_mean_absolute_error: 0.2248\n",
            "Epoch 29/35\n",
            " - 0s - loss: 0.0710 - mean_absolute_error: 0.2510 - val_loss: 0.0561 - val_mean_absolute_error: 0.2195\n",
            "Epoch 30/35\n",
            " - 0s - loss: 0.0682 - mean_absolute_error: 0.2455 - val_loss: 0.0536 - val_mean_absolute_error: 0.2143\n",
            "Epoch 31/35\n",
            " - 0s - loss: 0.0656 - mean_absolute_error: 0.2401 - val_loss: 0.0514 - val_mean_absolute_error: 0.2095\n",
            "Epoch 32/35\n",
            " - 0s - loss: 0.0632 - mean_absolute_error: 0.2351 - val_loss: 0.0493 - val_mean_absolute_error: 0.2048\n",
            "Epoch 33/35\n",
            " - 0s - loss: 0.0609 - mean_absolute_error: 0.2302 - val_loss: 0.0473 - val_mean_absolute_error: 0.2004\n",
            "Epoch 34/35\n",
            " - 0s - loss: 0.0587 - mean_absolute_error: 0.2257 - val_loss: 0.0455 - val_mean_absolute_error: 0.1963\n",
            "Epoch 35/35\n",
            " - 0s - loss: 0.0567 - mean_absolute_error: 0.2212 - val_loss: 0.0437 - val_mean_absolute_error: 0.1923\n"
          ],
          "name": "stdout"
        }
      ]
    },
    {
      "cell_type": "code",
      "metadata": {
        "id": "6117h0kUOHCx",
        "colab_type": "code",
        "outputId": "5022f8fa-c68c-41cd-9fa0-e2c3691ccd7c",
        "colab": {
          "base_uri": "https://localhost:8080/",
          "height": 283
        }
      },
      "source": [
        "prediction = model.predict(x_test)\n",
        "plt.figure(figsize=(4,4))\n",
        "plt.plot(y_test, prediction, '.')\n",
        "plt.xlabel('Correct values')\n",
        "plt.ylabel('Predictions')\n",
        "plt.show()"
      ],
      "execution_count": 74,
      "outputs": [
        {
          "output_type": "display_data",
          "data": {
            "image/png": "[encoded data removed]",
            "text/plain": [
              "<Figure size 288x288 with 1 Axes>"
            ]
          },
          "metadata": {
            "tags": []
          }
        }
      ]
    },
    {
      "cell_type": "code",
      "metadata": {
        "id": "pPoAHOhJRRXK",
        "colab_type": "code",
        "outputId": "0a4b20f1-5ec5-476b-cdbb-2ede842904b1",
        "colab": {
          "base_uri": "https://localhost:8080/",
          "height": 52
        }
      },
      "source": [
        "results = model.evaluate(x_test, y_test)\n",
        "print ('mae = ', results[1])"
      ],
      "execution_count": 75,
      "outputs": [
        {
          "output_type": "stream",
          "text": [
            "40/40 [==============================] - 0s 92us/step\n",
            "mae =  0.1923050045967102\n"
          ],
          "name": "stdout"
        }
      ]
    }
  ]
}