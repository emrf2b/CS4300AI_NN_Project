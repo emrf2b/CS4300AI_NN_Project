{
  "nbformat": 4,
  "nbformat_minor": 0,
  "metadata": {
    "colab": {
      "name": "AI_Project.ipynb",
      "version": "0.3.2",
      "provenance": [],
      "collapsed_sections": [],
      "include_colab_link": true
    },
    "kernelspec": {
      "name": "python3",
      "display_name": "Python 3"
    }
  },
  "cells": [
    {
      "cell_type": "markdown",
      "metadata": {
        "id": "view-in-github",
        "colab_type": "text"
      },
      "source": [
        "<a href=\"https://colab.research.google.com/github/emrf2b/CS4300AI_NN_Project/blob/master/AI_Project.ipynb\" target=\"_parent\"><img src=\"https://colab.research.google.com/assets/colab-badge.svg\" alt=\"Open In Colab\"/></a>"
      ]
    },
    {
      "cell_type": "code",
      "metadata": {
        "id": "0qLxFh46b5vu",
        "colab_type": "code",
        "colab": {}
      },
      "source": [
        "from numpy.random import seed #required for reproducibility\n",
        "seed(19) #required for reproducibility\n",
        "from tensorflow import set_random_seed #required for reproducibility\n",
        "set_random_seed(19) #required for reproducibility\n",
        "from keras.models import Sequential\n",
        "from keras.layers import Dense\n",
        "import keras.utils\n",
        "import numpy as np\n",
        "import matplotlib.pyplot as plt"
      ],
      "execution_count": 0,
      "outputs": []
    },
    {
      "cell_type": "code",
      "metadata": {
        "id": "o94m84OwYjDm",
        "colab_type": "code",
        "outputId": "264e1899-1aec-4078-bd98-918e0427bfa1",
        "colab": {
          "resources": {
            "http://localhost:8080/nbextensions/google.colab/files.js": {
              "data": "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",
              "ok": true,
              "headers": [
                [
                  "content-type",
                  "application/javascript"
                ]
              ],
              "status": 200,
              "status_text": ""
            }
          },
          "base_uri": "https://localhost:8080/",
          "height": 75
        }
      },
      "source": [
        "from google.colab import files\n",
        "uploaded = files.upload()"
      ],
      "execution_count": 88,
      "outputs": [
        {
          "output_type": "display_data",
          "data": {
            "text/html": [
              "\n",
              "     <input type=\"file\" id=\"files-7e76c46e-667f-4d9d-9b76-d41cd47734fc\" name=\"files[]\" multiple disabled />\n",
              "     <output id=\"result-7e76c46e-667f-4d9d-9b76-d41cd47734fc\">\n",
              "      Upload widget is only available when the cell has been executed in the\n",
              "      current browser session. Please rerun this cell to enable.\n",
              "      </output>\n",
              "      <script src=\"/nbextensions/google.colab/files.js\"></script> "
            ],
            "text/plain": [
              "<IPython.core.display.HTML object>"
            ]
          },
          "metadata": {
            "tags": []
          }
        },
        {
          "output_type": "stream",
          "text": [
            "Saving CS4300AIProjectGolfDataset.csv to CS4300AIProjectGolfDataset (11).csv\n"
          ],
          "name": "stdout"
        }
      ]
    },
    {
      "cell_type": "code",
      "metadata": {
        "id": "uk_CNWhZZxpF",
        "colab_type": "code",
        "colab": {}
      },
      "source": [
        "import numpy as np\n",
        "xy = np.genfromtxt('CS4300AIProjectGolfDataset.csv', delimiter=',', skip_header = 1, usecols = (1, 2, 3, 4), max_rows = 195)"
      ],
      "execution_count": 0,
      "outputs": []
    },
    {
      "cell_type": "markdown",
      "metadata": {
        "id": "s__1_iRmHNfH",
        "colab_type": "text"
      },
      "source": [
        "Data imported for this project consists of 195 PGA golfer's statistics The four imported columns include this project's independent variable, the proportion of top-ten placements and the three input features. The original dataset also includes the golfer's names which is irrelevant to this project. There are many other columns that included further statistics over the year of 2017, but those have been omitted in the imported subset of data for the sake of brevity. The original dataset can be observed in this project's Github page.\n",
        "\n",
        "The input features used for prediction of placing in the top-ten of a major golf tournament are: an Experience Measure, an Accuracy Measure, and Average Distance Drived (of the golf ball). The Experience Measure was created by multiplying Age and Rounds Played (in the year). Essentially, I wanted to balance recent play (Rounds Played) and overall play (Age) experience measures. While it is true that all golfers do not begin playing golf at the same age, and therefore have varying starting ages, nearly all professional golfers have played for a college. Then we can assume that all players have been golfing since at least their teenage years. It is further assumed that older players will have richer backgrounds in the sport and therefore can make sounder mental and gamewise judgements. Rounds Played captures more recent player experiences. For example, course conditions can change from year to year. If someone has been playing his entire life, but has no experience on a particular course, his lifetime of playing my have little to do with placing well at that event. On the other hand, if a new player has kept up with recent changes in conditions and has played the course regularly, he may have a better shot than the more generally experienced player. \n",
        "\n",
        "The Accuracy Measure is based on the current season statistics. Particularly, Green-In-2 and proportion of Fairways Hit were multiplied to create this metric. Accuracy is important in all sports, but golf particularly because slight mishaps are often very costly and hard to come back from. Hitting the fairway is one way to judge a golfer's precision. The goal of the first shot is usually to land on a fairway to best set up the next shot which is usually the approach to the green. Shots that end up in the taller grass, sand pits, or hazardous areas are likely to result in higher overall scores, which is not desirable. However, sometimes golfers are good at getting out of these situations, making the first shot of the hole not as vital as it may first appear. This is how the Green-In-2 variable is useful--golfers whom get to the green (the area with the hole) in 2 shots on par 4 and par 5 holes are very likely to make par or improve their scores by making birdies. Putting is obviously a challenge as well, but I would like this examination to remain solely on the initial shots. \n",
        "\n",
        "Consequently, this bring us to the final input feature, Average Driving Distance. Drives are measured in yards and theoretically can be made with any club, but are most often made with a driver. Subsequently, the first shot in gold is made from the tee box and is called a drive. The object of the drive is to get the ball as close to the green as possible. A long drive is highly sought-after and prized in the world of golf, hence its appearance in this project. However, the power that a drive generally generates may cause a lack of control in precision, causing shots to veer off target. Also, golfers whom insist on driving the ball as hard and long as possible are not always thinking strategically about hole/course conditions. "
      ]
    },
    {
      "cell_type": "code",
      "metadata": {
        "id": "gQMW5W27Z_4n",
        "colab_type": "code",
        "outputId": "2ae3f2f4-b525-419a-d276-d0d7d77311fb",
        "colab": {
          "base_uri": "https://localhost:8080/",
          "height": 35
        }
      },
      "source": [
        "print(xy.shape)"
      ],
      "execution_count": 92,
      "outputs": [
        {
          "output_type": "stream",
          "text": [
            "(195, 4)\n"
          ],
          "name": "stdout"
        }
      ]
    },
    {
      "cell_type": "code",
      "metadata": {
        "id": "KroUrk0taO-Y",
        "colab_type": "code",
        "colab": {}
      },
      "source": [
        "print(xy[0:, :])"
      ],
      "execution_count": 0,
      "outputs": []
    },
    {
      "cell_type": "code",
      "metadata": {
        "id": "wuCMAPjoYWab",
        "colab_type": "code",
        "outputId": "98200a4d-9df1-4581-dfd3-feb3e38721da",
        "colab": {
          "base_uri": "https://localhost:8080/",
          "height": 70
        }
      },
      "source": [
        "#norm_xy = (keras.utils.normalize(xy, axis=-1, order=2))\n",
        "\n",
        "## Mins and maxes of the Output Variable, Proportion of Top-Ten Placements\n",
        "print(\"Range of Proportion of Top-Ten Tournament Placements:\")\n",
        "print(np.max(xy[:, 3]))\n",
        "print(np.min(xy[:, 3]))"
      ],
      "execution_count": 94,
      "outputs": [
        {
          "output_type": "stream",
          "text": [
            "Range of Proportion of Top-Ten Tournament Placements:\n",
            "0.611111111\n",
            "0.0\n"
          ],
          "name": "stdout"
        }
      ]
    },
    {
      "cell_type": "code",
      "metadata": {
        "id": "VUc0y2-AYMoc",
        "colab_type": "code",
        "outputId": "4db0cf0c-15a8-4913-da17-0dcec97dc106",
        "colab": {
          "base_uri": "https://localhost:8080/",
          "height": 70
        }
      },
      "source": [
        "##Intital mins and maxes of the Experience Measure (age * no_rounds_played) variable\n",
        "print(\"Range of Experience Measure:\")\n",
        "print(np.max(xy[:, 2]))\n",
        "print(np.min(xy[:, 2]))\n",
        "\n",
        "#print(np.max(norm_xy[:, 2]))\n",
        "#print(np.min(norm_xy[:, 2]))"
      ],
      "execution_count": 95,
      "outputs": [
        {
          "output_type": "stream",
          "text": [
            "Range of Experience Measure:\n",
            "4554.0\n",
            "1113.0\n"
          ],
          "name": "stdout"
        }
      ]
    },
    {
      "cell_type": "code",
      "metadata": {
        "id": "rLjydv9LdcMx",
        "colab_type": "code",
        "outputId": "1f2275e9-ebee-4653-9664-5855d34355e7",
        "colab": {
          "base_uri": "https://localhost:8080/",
          "height": 70
        }
      },
      "source": [
        "##Intital mins and maxes of the Accuracy Measure (hole_in_2 * fairways_hit) variable\n",
        "print(\"Range of Accuracy Measure:\")\n",
        "print(np.max(xy[:, 1]))\n",
        "print(np.min(xy[:, 1]))\n",
        "\n",
        "\n",
        "#print(np.max(norm_xy[:, 1]))\n",
        "#print(np.min(norm_xy[:, 1]))"
      ],
      "execution_count": 96,
      "outputs": [
        {
          "output_type": "stream",
          "text": [
            "Range of Accuracy Measure:\n",
            "5317.5682\n",
            "1826.3136\n"
          ],
          "name": "stdout"
        }
      ]
    },
    {
      "cell_type": "code",
      "metadata": {
        "id": "gvz2ovfnJScm",
        "colab_type": "code",
        "outputId": "0ff112bf-1e4d-478f-c60d-32e47d2ae8f8",
        "colab": {
          "base_uri": "https://localhost:8080/",
          "height": 70
        }
      },
      "source": [
        "##Intital mins and maxes of the Average Ball Driving Distance\n",
        "print(\"Range of Average Driving Distance:\")\n",
        "print(np.max(xy[:, 0]))\n",
        "print(np.min(xy[:, 0]))\n",
        "\n",
        "#print(np.max(norm_xy[:, 0]))\n",
        "#print(np.min(norm_xy[:, 0]))"
      ],
      "execution_count": 97,
      "outputs": [
        {
          "output_type": "stream",
          "text": [
            "Range of Average Driving Distance:\n",
            "320.2\n",
            "278.4\n"
          ],
          "name": "stdout"
        }
      ]
    },
    {
      "cell_type": "markdown",
      "metadata": {
        "id": "ZKN_bPRIHHud",
        "colab_type": "text"
      },
      "source": [
        "The data consist of 195 records, making 155 of those items approximately 80 percent. That number of records makes up the training set, leaving 40 for testing. "
      ]
    },
    {
      "cell_type": "code",
      "metadata": {
        "id": "D26oNevjaZGY",
        "colab_type": "code",
        "colab": {}
      },
      "source": [
        "#xy_train = norm_xy[0:155, 0:]\n",
        "#xy_test  = norm_xy[155:, 0:]\n",
        "\n",
        "xy_train = xy[0:155, 0:]\n",
        "xy_test  = xy[155:, 0:]"
      ],
      "execution_count": 0,
      "outputs": []
    },
    {
      "cell_type": "code",
      "metadata": {
        "id": "t7If7LxGa6fw",
        "colab_type": "code",
        "outputId": "7189e8d9-6eda-4ea6-cb5f-d452456e0658",
        "colab": {
          "base_uri": "https://localhost:8080/",
          "height": 52
        }
      },
      "source": [
        "print(xy_train.shape)\n",
        "print(xy_test.shape)"
      ],
      "execution_count": 99,
      "outputs": [
        {
          "output_type": "stream",
          "text": [
            "(155, 4)\n",
            "(40, 4)\n"
          ],
          "name": "stdout"
        }
      ]
    },
    {
      "cell_type": "markdown",
      "metadata": {
        "id": "BzxCcs_lwvsr",
        "colab_type": "text"
      },
      "source": [
        "The input feature Average Distanced Drived (plot observable below) does seem to have a slight linear relationship with the values to be predicted. There are plenty of lower values--speciffically, zeros--of Proportion Top-Ten Placements that pull the line downward. Also, Drive values are concentrated between 285 and 305. Both of these observations are expected given that placing in the top ten of any golf tournament is difficult and that the input feature is an average, hence the middle concentration. Overall, it seems safe to assume there is a slight correlation between driving distance and top-ten placements."
      ]
    },
    {
      "cell_type": "code",
      "metadata": {
        "id": "4hv-qGk7c7zY",
        "colab_type": "code",
        "outputId": "e72bdcf2-fb26-4333-c5ef-2d09ac27e3b2",
        "colab": {
          "base_uri": "https://localhost:8080/",
          "height": 283
        }
      },
      "source": [
        "plt.figure(figsize=(4,4))\n",
        "plt.plot(xy_train[:, 0], xy_train[:, 3], '.')\n",
        "plt.xlabel('average distanced drived')\n",
        "plt.ylabel('proportion of top-tens')\n",
        "plt.show()"
      ],
      "execution_count": 100,
      "outputs": [
        {
          "output_type": "display_data",
          "data": {
            "image/png": "[encoded data removed]",
            "text/plain": [
              "<Figure size 288x288 with 1 Axes>"
            ]
          },
          "metadata": {
            "tags": []
          }
        }
      ]
    },
    {
      "cell_type": "markdown",
      "metadata": {
        "id": "PV530Zkiwz5X",
        "colab_type": "text"
      },
      "source": [
        "Similarly to the previous input feature, the Accuracy Measure provides some semblance of a upward line. There are several outliers, particularly near the top of the graph, that pull the line out of a linear formation and again, the number of zeros strongly affect the outcome variable, but overall there is a relationship. It is intersting to point out that the most accurate player has a median proportion of top-tens, while a moderately accurate player has the highest proportion of top-ten placements. There also is a large cluster at the midpoint of accuracy, near the bottom of top-tens, potentially implying that average accuracy is enough to place in the top ten some of the time. Finally, just before the Accuracy Measure hits 4000, the absence of top-tens is no longer observed. This seems to imply that a greater measure of accuracy is more likely to land a player with a top-ten placement than not."
      ]
    },
    {
      "cell_type": "code",
      "metadata": {
        "id": "VHZxaAfljyPR",
        "colab_type": "code",
        "outputId": "393f1961-dc0e-4f2f-ea4b-2e0d1eb7ba6b",
        "colab": {
          "base_uri": "https://localhost:8080/",
          "height": 283
        }
      },
      "source": [
        "plt.figure(figsize=(4,4))\n",
        "plt.plot(xy_train[:, 1], xy_train[:, 3], '.')\n",
        "plt.xlabel('accuracy measure')\n",
        "plt.ylabel('proportion of top-tens')\n",
        "plt.show()"
      ],
      "execution_count": 101,
      "outputs": [
        {
          "output_type": "display_data",
          "data": {
            "image/png": "[encoded data removed]",
            "text/plain": [
              "<Figure size 288x288 with 1 Axes>"
            ]
          },
          "metadata": {
            "tags": []
          }
        }
      ]
    },
    {
      "cell_type": "markdown",
      "metadata": {
        "id": "9wpS4D5Lzzc1",
        "colab_type": "text"
      },
      "source": [
        "The Experience Measure is the least linear and poses several interesting observations. First, some of the highest top-ten earners seem to have less than average experience, while the most experienced players have average or lower proportions of top-tens. This may be attributed to the less advantageous aspects of aging, such as more numerous injuries, not being able to bounce back from illness as swiftly, or greater familial responsibilities or obligations that take top priority over training. \n",
        "\n",
        "Second, while a cluster seems to have generated at the bottom-middle of the graph, there also seem to be quite a few players with average to below average experience earning quite a few top-ten placements. Those with greater experience have had less success generally. Maybe this indicates that something younger players are doing, whether with their equipment or training habits, may be attributing to this success. For future research, perhaps this measure would perform better with more robust features."
      ]
    },
    {
      "cell_type": "code",
      "metadata": {
        "id": "hBRjpJopkUNc",
        "colab_type": "code",
        "outputId": "44a0867f-f824-4c70-a268-031d5d4f374e",
        "colab": {
          "base_uri": "https://localhost:8080/",
          "height": 283
        }
      },
      "source": [
        "plt.figure(figsize=(4,4))\n",
        "plt.plot(xy_train[:, 2], xy_train[:, 3], '.')\n",
        "plt.xlabel('experience measure')\n",
        "plt.ylabel('proportion of top-tens')\n",
        "plt.show()"
      ],
      "execution_count": 102,
      "outputs": [
        {
          "output_type": "display_data",
          "data": {
            "image/png": "[encoded data removed]",
            "text/plain": [
              "<Figure size 288x288 with 1 Axes>"
            ]
          },
          "metadata": {
            "tags": []
          }
        }
      ]
    },
    {
      "cell_type": "markdown",
      "metadata": {
        "id": "LzoNw---HunU",
        "colab_type": "text"
      },
      "source": [
        "Split both sets into corresponding X (inputs) and Y(outputs)"
      ]
    },
    {
      "cell_type": "code",
      "metadata": {
        "id": "1lzgacV3a-FQ",
        "colab_type": "code",
        "colab": {}
      },
      "source": [
        "x_train = xy_train[:, 0:3]\n",
        "y_train = xy_train[:, 3]\n",
        "x_test = xy_test[:, 0:3]\n",
        "y_test = xy_test[:, 3]"
      ],
      "execution_count": 0,
      "outputs": []
    },
    {
      "cell_type": "code",
      "metadata": {
        "id": "Ik209SOSbR9z",
        "colab_type": "code",
        "outputId": "1d08ef3f-0854-401d-eded-aed914973dfb",
        "colab": {
          "base_uri": "https://localhost:8080/",
          "height": 87
        }
      },
      "source": [
        "print(x_train.shape)\n",
        "print(x_test.shape)\n",
        "print(y_train.shape)\n",
        "print(y_test.shape)"
      ],
      "execution_count": 104,
      "outputs": [
        {
          "output_type": "stream",
          "text": [
            "(155, 3)\n",
            "(40, 3)\n",
            "(155,)\n",
            "(40,)\n"
          ],
          "name": "stdout"
        }
      ]
    },
    {
      "cell_type": "code",
      "metadata": {
        "id": "DJdEnfJKMZSj",
        "colab_type": "code",
        "colab": {}
      },
      "source": [
        "mean = x_train.mean(axis=0)\n",
        "x_train -= mean\n",
        "std = x_train.std(axis=0)\n",
        "x_train /= std\n",
        "\n",
        "x_test -= mean\n",
        "x_test /= std"
      ],
      "execution_count": 0,
      "outputs": []
    },
    {
      "cell_type": "markdown",
      "metadata": {
        "id": "EF0r8IGDSKqq",
        "colab_type": "text"
      },
      "source": [
        "#Prediction Evaluations of Several Types of Models"
      ]
    },
    {
      "cell_type": "markdown",
      "metadata": {
        "id": "XNjVaXcYIowx",
        "colab_type": "text"
      },
      "source": [
        "##Basic Linear Regression Model\n",
        "This first model will use linear activation since the output feature is a proportion. Given that these proportions lie between 0.0 and .61, I would like to see a model that predicts with an mean absolute error less than five percent (MAE < 0.05).  \n",
        "\n",
        "After calculations, it seems the model only predicts with 6.8 percent error. This covers approximately a tenth of the range of points, which is troublesome. However, the graphical output of predictions and real values does show a somewhat linear relationship. This is encouraging since the outcome could have been completely uncorrelated. Perhaps the linear neural network will reduce the error and tighten this pattern seen with this basic linear regression."
      ]
    },
    {
      "cell_type": "code",
      "metadata": {
        "id": "OT03EV_jbf4U",
        "colab_type": "code",
        "outputId": "6bdf21d4-1200-41f8-c95e-b740dfef8a04",
        "colab": {
          "base_uri": "https://localhost:8080/",
          "height": 193
        }
      },
      "source": [
        "model = Sequential()\n",
        "model.add(Dense(1, input_dim = 3, activation='linear'))\n",
        "print(model.summary())"
      ],
      "execution_count": 106,
      "outputs": [
        {
          "output_type": "stream",
          "text": [
            "_________________________________________________________________\n",
            "Layer (type)                 Output Shape              Param #   \n",
            "=================================================================\n",
            "dense_23 (Dense)             (None, 1)                 4         \n",
            "=================================================================\n",
            "Total params: 4\n",
            "Trainable params: 4\n",
            "Non-trainable params: 0\n",
            "_________________________________________________________________\n",
            "None\n"
          ],
          "name": "stdout"
        }
      ]
    },
    {
      "cell_type": "code",
      "metadata": {
        "id": "OGp6Lh9ub2Fs",
        "colab_type": "code",
        "colab": {}
      },
      "source": [
        "model.compile(optimizer='sgd', loss='mse', metrics=['mae'])"
      ],
      "execution_count": 0,
      "outputs": []
    },
    {
      "cell_type": "code",
      "metadata": {
        "id": "A_s6UzARcHqw",
        "colab_type": "code",
        "outputId": "54bf6ac3-3095-4bd9-d0d2-350e30875f2c",
        "colab": {
          "base_uri": "https://localhost:8080/",
          "height": 1267
        }
      },
      "source": [
        "history = model.fit(x_train, y_train, epochs= 35, verbose = 2, batch_size=10, validation_data = (x_test, y_test))"
      ],
      "execution_count": 108,
      "outputs": [
        {
          "output_type": "stream",
          "text": [
            "Train on 155 samples, validate on 40 samples\n",
            "Epoch 1/35\n",
            " - 0s - loss: 1.7983 - mean_absolute_error: 1.0419 - val_loss: 0.9394 - val_mean_absolute_error: 0.7635\n",
            "Epoch 2/35\n",
            " - 0s - loss: 0.6687 - mean_absolute_error: 0.6387 - val_loss: 0.3438 - val_mean_absolute_error: 0.4656\n",
            "Epoch 3/35\n",
            " - 0s - loss: 0.2568 - mean_absolute_error: 0.3936 - val_loss: 0.1265 - val_mean_absolute_error: 0.2841\n",
            "Epoch 4/35\n",
            " - 0s - loss: 0.1009 - mean_absolute_error: 0.2461 - val_loss: 0.0521 - val_mean_absolute_error: 0.1802\n",
            "Epoch 5/35\n",
            " - 0s - loss: 0.0451 - mean_absolute_error: 0.1618 - val_loss: 0.0249 - val_mean_absolute_error: 0.1272\n",
            "Epoch 6/35\n",
            " - 0s - loss: 0.0238 - mean_absolute_error: 0.1165 - val_loss: 0.0151 - val_mean_absolute_error: 0.0974\n",
            "Epoch 7/35\n",
            " - 0s - loss: 0.0155 - mean_absolute_error: 0.0939 - val_loss: 0.0113 - val_mean_absolute_error: 0.0809\n",
            "Epoch 8/35\n",
            " - 0s - loss: 0.0121 - mean_absolute_error: 0.0832 - val_loss: 0.0100 - val_mean_absolute_error: 0.0753\n",
            "Epoch 9/35\n",
            " - 0s - loss: 0.0107 - mean_absolute_error: 0.0786 - val_loss: 0.0093 - val_mean_absolute_error: 0.0728\n",
            "Epoch 10/35\n",
            " - 0s - loss: 0.0101 - mean_absolute_error: 0.0765 - val_loss: 0.0090 - val_mean_absolute_error: 0.0717\n",
            "Epoch 11/35\n",
            " - 0s - loss: 0.0097 - mean_absolute_error: 0.0751 - val_loss: 0.0087 - val_mean_absolute_error: 0.0709\n",
            "Epoch 12/35\n",
            " - 0s - loss: 0.0096 - mean_absolute_error: 0.0747 - val_loss: 0.0086 - val_mean_absolute_error: 0.0704\n",
            "Epoch 13/35\n",
            " - 0s - loss: 0.0094 - mean_absolute_error: 0.0746 - val_loss: 0.0085 - val_mean_absolute_error: 0.0698\n",
            "Epoch 14/35\n",
            " - 0s - loss: 0.0094 - mean_absolute_error: 0.0738 - val_loss: 0.0084 - val_mean_absolute_error: 0.0697\n",
            "Epoch 15/35\n",
            " - 0s - loss: 0.0094 - mean_absolute_error: 0.0741 - val_loss: 0.0083 - val_mean_absolute_error: 0.0692\n",
            "Epoch 16/35\n",
            " - 0s - loss: 0.0093 - mean_absolute_error: 0.0740 - val_loss: 0.0083 - val_mean_absolute_error: 0.0690\n",
            "Epoch 17/35\n",
            " - 0s - loss: 0.0093 - mean_absolute_error: 0.0741 - val_loss: 0.0082 - val_mean_absolute_error: 0.0687\n",
            "Epoch 18/35\n",
            " - 0s - loss: 0.0093 - mean_absolute_error: 0.0743 - val_loss: 0.0082 - val_mean_absolute_error: 0.0684\n",
            "Epoch 19/35\n",
            " - 0s - loss: 0.0093 - mean_absolute_error: 0.0739 - val_loss: 0.0082 - val_mean_absolute_error: 0.0683\n",
            "Epoch 20/35\n",
            " - 0s - loss: 0.0093 - mean_absolute_error: 0.0737 - val_loss: 0.0082 - val_mean_absolute_error: 0.0680\n",
            "Epoch 21/35\n",
            " - 0s - loss: 0.0093 - mean_absolute_error: 0.0742 - val_loss: 0.0082 - val_mean_absolute_error: 0.0680\n",
            "Epoch 22/35\n",
            " - 0s - loss: 0.0093 - mean_absolute_error: 0.0737 - val_loss: 0.0081 - val_mean_absolute_error: 0.0675\n",
            "Epoch 23/35\n",
            " - 0s - loss: 0.0092 - mean_absolute_error: 0.0739 - val_loss: 0.0081 - val_mean_absolute_error: 0.0674\n",
            "Epoch 24/35\n",
            " - 0s - loss: 0.0092 - mean_absolute_error: 0.0739 - val_loss: 0.0082 - val_mean_absolute_error: 0.0673\n",
            "Epoch 25/35\n",
            " - 0s - loss: 0.0092 - mean_absolute_error: 0.0734 - val_loss: 0.0082 - val_mean_absolute_error: 0.0674\n",
            "Epoch 26/35\n",
            " - 0s - loss: 0.0093 - mean_absolute_error: 0.0741 - val_loss: 0.0081 - val_mean_absolute_error: 0.0673\n",
            "Epoch 27/35\n",
            " - 0s - loss: 0.0092 - mean_absolute_error: 0.0739 - val_loss: 0.0082 - val_mean_absolute_error: 0.0673\n",
            "Epoch 28/35\n",
            " - 0s - loss: 0.0092 - mean_absolute_error: 0.0739 - val_loss: 0.0082 - val_mean_absolute_error: 0.0672\n",
            "Epoch 29/35\n",
            " - 0s - loss: 0.0092 - mean_absolute_error: 0.0736 - val_loss: 0.0082 - val_mean_absolute_error: 0.0672\n",
            "Epoch 30/35\n",
            " - 0s - loss: 0.0092 - mean_absolute_error: 0.0736 - val_loss: 0.0082 - val_mean_absolute_error: 0.0671\n",
            "Epoch 31/35\n",
            " - 0s - loss: 0.0093 - mean_absolute_error: 0.0735 - val_loss: 0.0082 - val_mean_absolute_error: 0.0671\n",
            "Epoch 32/35\n",
            " - 0s - loss: 0.0092 - mean_absolute_error: 0.0738 - val_loss: 0.0082 - val_mean_absolute_error: 0.0670\n",
            "Epoch 33/35\n",
            " - 0s - loss: 0.0092 - mean_absolute_error: 0.0735 - val_loss: 0.0081 - val_mean_absolute_error: 0.0669\n",
            "Epoch 34/35\n",
            " - 0s - loss: 0.0093 - mean_absolute_error: 0.0740 - val_loss: 0.0081 - val_mean_absolute_error: 0.0668\n",
            "Epoch 35/35\n",
            " - 0s - loss: 0.0092 - mean_absolute_error: 0.0735 - val_loss: 0.0081 - val_mean_absolute_error: 0.0669\n"
          ],
          "name": "stdout"
        }
      ]
    },
    {
      "cell_type": "code",
      "metadata": {
        "id": "PFvm7kQ6cWbW",
        "colab_type": "code",
        "colab": {}
      },
      "source": [
        "prediction = model.predict(x_test)"
      ],
      "execution_count": 0,
      "outputs": []
    },
    {
      "cell_type": "code",
      "metadata": {
        "id": "1vdEHi6Vc1xw",
        "colab_type": "code",
        "outputId": "aed4e4fc-ca00-48de-e45e-cdf1600c3c20",
        "colab": {
          "base_uri": "https://localhost:8080/",
          "height": 35
        }
      },
      "source": [
        "print(y_test[0:5])"
      ],
      "execution_count": 110,
      "outputs": [
        {
          "output_type": "stream",
          "text": [
            "[0.31818182 0.125      0.06896552 0.17391304 0.11764706]\n"
          ],
          "name": "stdout"
        }
      ]
    },
    {
      "cell_type": "code",
      "metadata": {
        "id": "zLE9evp0c5RC",
        "colab_type": "code",
        "outputId": "4232a997-392d-4d8f-8659-1361bd37e03b",
        "colab": {
          "base_uri": "https://localhost:8080/",
          "height": 105
        }
      },
      "source": [
        "print(prediction[0:5])"
      ],
      "execution_count": 111,
      "outputs": [
        {
          "output_type": "stream",
          "text": [
            "[[0.11110015]\n",
            " [0.11285096]\n",
            " [0.11864701]\n",
            " [0.1716347 ]\n",
            " [0.08933426]]\n"
          ],
          "name": "stdout"
        }
      ]
    },
    {
      "cell_type": "code",
      "metadata": {
        "id": "7z6K6Bqckmzd",
        "colab_type": "code",
        "outputId": "343341df-db50-4d2a-9dcb-342b988e3690",
        "colab": {
          "base_uri": "https://localhost:8080/",
          "height": 283
        }
      },
      "source": [
        "plt.figure(figsize=(4,4))\n",
        "plt.plot(y_test, prediction, '.')\n",
        "plt.xlabel('Correct values')\n",
        "plt.ylabel('Predictions')\n",
        "plt.show()"
      ],
      "execution_count": 112,
      "outputs": [
        {
          "output_type": "display_data",
          "data": {
            "image/png": "[encoded data removed]",
            "text/plain": [
              "<Figure size 288x288 with 1 Axes>"
            ]
          },
          "metadata": {
            "tags": []
          }
        }
      ]
    },
    {
      "cell_type": "code",
      "metadata": {
        "id": "oJGvb0qvRkXq",
        "colab_type": "code",
        "outputId": "d432324e-ab61-4b58-cfd3-df0d68253d4f",
        "colab": {
          "base_uri": "https://localhost:8080/",
          "height": 52
        }
      },
      "source": [
        "results = model.evaluate(x_test, y_test)\n",
        "print ('mae = ', results[1])"
      ],
      "execution_count": 0,
      "outputs": [
        {
          "output_type": "stream",
          "text": [
            "40/40 [==============================] - 0s 155us/step\n",
            "mae =  0.06597755551338196\n"
          ],
          "name": "stdout"
        }
      ]
    },
    {
      "cell_type": "markdown",
      "metadata": {
        "id": "QyaxeEOLKBGd",
        "colab_type": "text"
      },
      "source": [
        "## Neural Network - Linear\n",
        "Unfortunately, it seems this neural network does not significantly improve upon the basic linear regression like I had hoped it would. The differnce in this and the previous model is only 0.0013. This model's 0.0673 error term is still quite large, though I am not well versed in neural network outcomes, so maybe this is acceptable. I am under the impression that an error rate of less than five percent is desirable, but this is in regression analysis. Still, I was hoping for a greater difference, though I am glad to see it at least came close and did actually improve the statistic. \n",
        "\n",
        "Now on to building a model using sigmoid activation. It will be interesting to see this outcome since the sigmoid activation is completely wrong for this type of dataset. I will be wildly upset if it even comes close to the predictions of the prior neural networks. Fingers crossed.\n"
      ]
    },
    {
      "cell_type": "code",
      "metadata": {
        "id": "n_PVBQ-BKAA2",
        "colab_type": "code",
        "outputId": "979a3533-01d4-4342-ffe1-ae8266df393d",
        "colab": {
          "base_uri": "https://localhost:8080/",
          "height": 1548
        }
      },
      "source": [
        "model = Sequential()\n",
        "model.add(Dense(8, input_dim = 3, activation='linear'))\n",
        "model.add(Dense(4, activation='linear'))\n",
        "model.add(Dense(2, activation='linear'))\n",
        "model.add(Dense(1, activation='linear'))\n",
        "print(model.summary())\n",
        "model.compile(loss='mse', optimizer='sgd', metrics=['mae'])\n",
        "history = model.fit(x_train, y_train, epochs=35, verbose = 2, batch_size=10, validation_data = (x_test, y_test))"
      ],
      "execution_count": 113,
      "outputs": [
        {
          "output_type": "stream",
          "text": [
            "_________________________________________________________________\n",
            "Layer (type)                 Output Shape              Param #   \n",
            "=================================================================\n",
            "dense_24 (Dense)             (None, 8)                 32        \n",
            "_________________________________________________________________\n",
            "dense_25 (Dense)             (None, 4)                 36        \n",
            "_________________________________________________________________\n",
            "dense_26 (Dense)             (None, 2)                 10        \n",
            "_________________________________________________________________\n",
            "dense_27 (Dense)             (None, 1)                 3         \n",
            "=================================================================\n",
            "Total params: 81\n",
            "Trainable params: 81\n",
            "Non-trainable params: 0\n",
            "_________________________________________________________________\n",
            "None\n",
            "Train on 155 samples, validate on 40 samples\n",
            "Epoch 1/35\n",
            " - 1s - loss: 0.5222 - mean_absolute_error: 0.4011 - val_loss: 0.0137 - val_mean_absolute_error: 0.0834\n",
            "Epoch 2/35\n",
            " - 0s - loss: 0.0115 - mean_absolute_error: 0.0800 - val_loss: 0.0081 - val_mean_absolute_error: 0.0660\n",
            "Epoch 3/35\n",
            " - 0s - loss: 0.0096 - mean_absolute_error: 0.0732 - val_loss: 0.0082 - val_mean_absolute_error: 0.0686\n",
            "Epoch 4/35\n",
            " - 0s - loss: 0.0096 - mean_absolute_error: 0.0754 - val_loss: 0.0082 - val_mean_absolute_error: 0.0686\n",
            "Epoch 5/35\n",
            " - 0s - loss: 0.0097 - mean_absolute_error: 0.0771 - val_loss: 0.0091 - val_mean_absolute_error: 0.0688\n",
            "Epoch 6/35\n",
            " - 0s - loss: 0.0100 - mean_absolute_error: 0.0756 - val_loss: 0.0082 - val_mean_absolute_error: 0.0673\n",
            "Epoch 7/35\n",
            " - 0s - loss: 0.0095 - mean_absolute_error: 0.0760 - val_loss: 0.0088 - val_mean_absolute_error: 0.0704\n",
            "Epoch 8/35\n",
            " - 0s - loss: 0.0096 - mean_absolute_error: 0.0752 - val_loss: 0.0097 - val_mean_absolute_error: 0.0726\n",
            "Epoch 9/35\n",
            " - 0s - loss: 0.0097 - mean_absolute_error: 0.0749 - val_loss: 0.0088 - val_mean_absolute_error: 0.0689\n",
            "Epoch 10/35\n",
            " - 0s - loss: 0.0097 - mean_absolute_error: 0.0740 - val_loss: 0.0084 - val_mean_absolute_error: 0.0713\n",
            "Epoch 11/35\n",
            " - 0s - loss: 0.0097 - mean_absolute_error: 0.0772 - val_loss: 0.0082 - val_mean_absolute_error: 0.0670\n",
            "Epoch 12/35\n",
            " - 0s - loss: 0.0097 - mean_absolute_error: 0.0746 - val_loss: 0.0080 - val_mean_absolute_error: 0.0666\n",
            "Epoch 13/35\n",
            " - 0s - loss: 0.0097 - mean_absolute_error: 0.0757 - val_loss: 0.0080 - val_mean_absolute_error: 0.0666\n",
            "Epoch 14/35\n",
            " - 0s - loss: 0.0097 - mean_absolute_error: 0.0767 - val_loss: 0.0077 - val_mean_absolute_error: 0.0655\n",
            "Epoch 15/35\n",
            " - 0s - loss: 0.0098 - mean_absolute_error: 0.0759 - val_loss: 0.0077 - val_mean_absolute_error: 0.0658\n",
            "Epoch 16/35\n",
            " - 0s - loss: 0.0097 - mean_absolute_error: 0.0761 - val_loss: 0.0080 - val_mean_absolute_error: 0.0673\n",
            "Epoch 17/35\n",
            " - 0s - loss: 0.0097 - mean_absolute_error: 0.0761 - val_loss: 0.0086 - val_mean_absolute_error: 0.0680\n",
            "Epoch 18/35\n",
            " - 0s - loss: 0.0097 - mean_absolute_error: 0.0761 - val_loss: 0.0081 - val_mean_absolute_error: 0.0669\n",
            "Epoch 19/35\n",
            " - 0s - loss: 0.0097 - mean_absolute_error: 0.0746 - val_loss: 0.0081 - val_mean_absolute_error: 0.0669\n",
            "Epoch 20/35\n",
            " - 0s - loss: 0.0096 - mean_absolute_error: 0.0756 - val_loss: 0.0080 - val_mean_absolute_error: 0.0663\n",
            "Epoch 21/35\n",
            " - 0s - loss: 0.0095 - mean_absolute_error: 0.0767 - val_loss: 0.0085 - val_mean_absolute_error: 0.0677\n",
            "Epoch 22/35\n",
            " - 0s - loss: 0.0096 - mean_absolute_error: 0.0735 - val_loss: 0.0085 - val_mean_absolute_error: 0.0677\n",
            "Epoch 23/35\n",
            " - 0s - loss: 0.0093 - mean_absolute_error: 0.0747 - val_loss: 0.0081 - val_mean_absolute_error: 0.0663\n",
            "Epoch 24/35\n",
            " - 0s - loss: 0.0098 - mean_absolute_error: 0.0765 - val_loss: 0.0082 - val_mean_absolute_error: 0.0667\n",
            "Epoch 25/35\n",
            " - 0s - loss: 0.0096 - mean_absolute_error: 0.0739 - val_loss: 0.0076 - val_mean_absolute_error: 0.0665\n",
            "Epoch 26/35\n",
            " - 0s - loss: 0.0099 - mean_absolute_error: 0.0765 - val_loss: 0.0081 - val_mean_absolute_error: 0.0661\n",
            "Epoch 27/35\n",
            " - 0s - loss: 0.0095 - mean_absolute_error: 0.0734 - val_loss: 0.0079 - val_mean_absolute_error: 0.0667\n",
            "Epoch 28/35\n",
            " - 0s - loss: 0.0099 - mean_absolute_error: 0.0773 - val_loss: 0.0083 - val_mean_absolute_error: 0.0670\n",
            "Epoch 29/35\n",
            " - 0s - loss: 0.0096 - mean_absolute_error: 0.0753 - val_loss: 0.0080 - val_mean_absolute_error: 0.0659\n",
            "Epoch 30/35\n",
            " - 0s - loss: 0.0096 - mean_absolute_error: 0.0743 - val_loss: 0.0079 - val_mean_absolute_error: 0.0679\n",
            "Epoch 31/35\n",
            " - 0s - loss: 0.0095 - mean_absolute_error: 0.0774 - val_loss: 0.0078 - val_mean_absolute_error: 0.0654\n",
            "Epoch 32/35\n",
            " - 0s - loss: 0.0096 - mean_absolute_error: 0.0760 - val_loss: 0.0080 - val_mean_absolute_error: 0.0661\n",
            "Epoch 33/35\n",
            " - 0s - loss: 0.0097 - mean_absolute_error: 0.0759 - val_loss: 0.0080 - val_mean_absolute_error: 0.0663\n",
            "Epoch 34/35\n",
            " - 0s - loss: 0.0096 - mean_absolute_error: 0.0754 - val_loss: 0.0081 - val_mean_absolute_error: 0.0665\n",
            "Epoch 35/35\n",
            " - 0s - loss: 0.0097 - mean_absolute_error: 0.0761 - val_loss: 0.0082 - val_mean_absolute_error: 0.0664\n"
          ],
          "name": "stdout"
        }
      ]
    },
    {
      "cell_type": "code",
      "metadata": {
        "id": "7Kl2DDnsJzJu",
        "colab_type": "code",
        "outputId": "ff4769ce-ef89-4e2b-eda3-3aa94f7dcc8a",
        "colab": {
          "base_uri": "https://localhost:8080/",
          "height": 283
        }
      },
      "source": [
        "prediction = model.predict(x_test)\n",
        "plt.figure(figsize=(4,4))\n",
        "plt.plot(y_test, prediction, '.')\n",
        "plt.xlabel('Correct values')\n",
        "plt.ylabel('Predictions')\n",
        "plt.show()"
      ],
      "execution_count": 114,
      "outputs": [
        {
          "output_type": "display_data",
          "data": {
            "image/png": "[encoded data removed]",
            "text/plain": [
              "<Figure size 288x288 with 1 Axes>"
            ]
          },
          "metadata": {
            "tags": []
          }
        }
      ]
    },
    {
      "cell_type": "code",
      "metadata": {
        "id": "IjxrA462Kea6",
        "colab_type": "code",
        "outputId": "b8eea6ad-bd2c-47a8-b2be-ddeeabd3883a",
        "colab": {
          "base_uri": "https://localhost:8080/",
          "height": 52
        }
      },
      "source": [
        "results = model.evaluate(x_test, y_test)\n",
        "print ('mae = ', results[1])"
      ],
      "execution_count": 115,
      "outputs": [
        {
          "output_type": "stream",
          "text": [
            "40/40 [==============================] - 0s 137us/step\n",
            "mae =  0.0663707710802555\n"
          ],
          "name": "stdout"
        }
      ]
    },
    {
      "cell_type": "markdown",
      "metadata": {
        "id": "SDkAOsfnaS76",
        "colab_type": "text"
      },
      "source": [
        "##Function to Represent Model\n",
        "After concluding that this neural network does the best job at predicting top-ten placements, it was decided that this model is the best one to build a function that emulates it. The activations were linear and four layers were used, so I need to find the weights of each input feature and multiply those by the ..."
      ]
    },
    {
      "cell_type": "code",
      "metadata": {
        "id": "fJSyqw5seqHW",
        "colab_type": "code",
        "outputId": "53ff0564-bb45-44f1-f981-5e7fc21a6ab1",
        "colab": {
          "base_uri": "https://localhost:8080/",
          "height": 70
        }
      },
      "source": [
        "#code for function that represents previous NN\n",
        "\n",
        "#weights by layer\n",
        "weights_layer1 = model.layers[0].get_weights()[0]\n",
        "weights_layer2 = model.layers[1].get_weights()[0]\n",
        "weights_layer3 = model.layers[2].get_weights()[0]\n",
        "weights_layer4 = model.layers[3].get_weights()[0]\n",
        "\n",
        "#biases by layer\n",
        "biases_layer1 = model.layers[0].get_weights()[1]\n",
        "biases_layer2 = model.layers[1].get_weights()[1]\n",
        "biases_layer3 = model.layers[2].get_weights()[1]\n",
        "biases_layer4 = model.layers[3].get_weights()[1]\n",
        "\n",
        "\"\"\"\n",
        "#print(len(weights_layer1[0]), len(weights_layer2), len(weights_layer3))\n",
        "\n",
        "\n",
        "print(\"\\nThese are weights:\", weights_layer1)\n",
        "print(\"\\nThese are weights:\", weights_layer2)\n",
        "print(\"\\nThese are weights:\", weights_layer3)\n",
        "print(\"\\nThese are weights:\", weights_layer4)\n",
        "\n",
        "print(\"\\nThese are biases:\", biases_layer1)\n",
        "print(\"\\nThese are biases:\", biases_layer2)\n",
        "print(\"\\nThese are biases:\", biases_layer3)\n",
        "print(\"\\nThese are biases:\", biases_layer4)\n",
        "\n",
        "print(\"xy:\", xy)\n",
        "\n",
        "#print(len(xy))  # is 195\n",
        "#print(len(xy[0])) # is 4\n",
        "\n",
        "\n",
        "print(x_test[0][0])\n",
        "print(x_test)\n",
        "\"\"\"\n",
        "\n",
        "my_predictions = []\n",
        "\n",
        "for k in range(len(x_test)):#for each prediction\n",
        "\n",
        "  #neuron declaration and initialization\n",
        "  n1_l1 = 0\n",
        "  n2_l1 = 0\n",
        "  n3_l1 = 0\n",
        "  n4_l1 = 0\n",
        "  n5_l1 = 0\n",
        "  n6_l1 = 0\n",
        "  n7_l1 = 0\n",
        "  n8_l1 = 0\n",
        "\n",
        "  n1_l2 = 0\n",
        "  n2_l2 = 0\n",
        "  n3_l2 = 0\n",
        "  n4_l2 = 0\n",
        "\n",
        "  n1_l3 = 0\n",
        "  n2_l3 = 0\n",
        "\n",
        "  n1_l4 = 0\n",
        "\n",
        "  #INPUT FEATURES TO LAYER ONE\n",
        "  #multiply the first input feature's kth value by \n",
        "  #the weights respective to the next layer of neurons\n",
        "  counter = 0\n",
        "  for ix in weights_layer1[0]:\n",
        "    if counter == 7:\n",
        "      n8_l1 += x_test[k][0]*ix    \n",
        "    if counter == 6:\n",
        "      n7_l1 += x_test[k][0]*ix\n",
        "      counter += 1\n",
        "    if counter == 5:\n",
        "      n6_l1 += x_test[k][0]*ix\n",
        "      counter += 1\n",
        "    if counter == 4:\n",
        "      n5_l1 += x_test[k][0]*ix\n",
        "      counter += 1\n",
        "    if counter == 3:\n",
        "      n4_l1 += x_test[k][0]*ix\n",
        "      counter += 1\n",
        "    if counter == 2:\n",
        "      n3_l1 += x_test[k][0]*ix\n",
        "      counter += 1\n",
        "    if counter == 1:\n",
        "      n2_l1 += x_test[k][0]*ix\n",
        "      counter += 1     \n",
        "    if counter == 0:\n",
        "      n1_l1 += x_test[k][0]*ix\n",
        "      counter += 1\n",
        "\n",
        "  #multiply the second input feature's kth value by \n",
        "  #the weights respective to the next layer of neurons  \n",
        "  counter = 0\n",
        "  for ix in weights_layer1[1]:\n",
        "    if counter == 7:\n",
        "      n8_l1 += x_test[k][1]*ix    \n",
        "    if counter == 6:\n",
        "      n7_l1 += x_test[k][1]*ix\n",
        "      counter += 1\n",
        "    if counter == 5:\n",
        "      n6_l1 += x_test[k][1]*ix\n",
        "      counter += 1\n",
        "    if counter == 4:  \n",
        "      n5_l1 += x_test[k][1]*ix\n",
        "      counter += 1\n",
        "    if counter == 3:\n",
        "      n4_l1 += x_test[k][1]*ix\n",
        "      counter += 1\n",
        "    if counter == 2:\n",
        "      n3_l1 += x_test[k][1]*ix\n",
        "      counter += 1\n",
        "    if counter == 1:\n",
        "      n2_l1 += x_test[k][1]*ix\n",
        "      counter += 1     \n",
        "    if counter == 0:\n",
        "      n1_l1 += x_test[k][1]*ix\n",
        "      counter += 1\n",
        "\n",
        "  #multiply the third input feature's kth value by \n",
        "  #the weights respective to the next layer of neurons\n",
        "  counter = 0\n",
        "  for ix in weights_layer1[2]:\n",
        "    if counter == 7:\n",
        "      n8_l1 += x_test[k][2]*ix    \n",
        "    if counter == 6:\n",
        "      n7_l1 += x_test[k][2]*ix\n",
        "      counter += 1\n",
        "    if counter == 5:\n",
        "      n6_l1 += x_test[k][2]*ix\n",
        "      counter += 1\n",
        "    if counter == 4:  \n",
        "      n5_l1 += x_test[k][2]*ix\n",
        "      counter += 1\n",
        "    if counter == 3:\n",
        "      n4_l1 += x_test[k][2]*ix\n",
        "      counter += 1\n",
        "    if counter == 2:\n",
        "      n3_l1 += x_test[k][2]*ix\n",
        "      counter += 1\n",
        "    if counter == 1:\n",
        "      n2_l1 += x_test[k][2]*ix\n",
        "      counter += 1     \n",
        "    if counter == 0:\n",
        "      n1_l1 += x_test[k][2]*ix\n",
        "      counter += 1\n",
        "\n",
        "  #add respective biases to each of the neurons\n",
        "  n1_l1 += biases_layer1[0]\n",
        "  n2_l1 += biases_layer1[1]\n",
        "  n3_l1 += biases_layer1[2]\n",
        "  n4_l1 += biases_layer1[3]\n",
        "  n5_l1 += biases_layer1[4]\n",
        "  n6_l1 += biases_layer1[5]\n",
        "  n7_l1 += biases_layer1[6]\n",
        "  n8_l1 += biases_layer1[7]\n",
        "\n",
        "  #make list of the first layer neurons for next part of NN\n",
        "  l1_neurons = [n1_l1, n2_l1, n3_l1, n4_l1, n5_l1, n6_l1, n7_l1, n8_l1]\n",
        "\n",
        "  #LAYER TWO\n",
        "  #multiply the first neuron from layer one by the weights \n",
        "  #respective to the next layer of neurons\n",
        "  counter = 0\n",
        "  for ix in weights_layer2[0]:\n",
        "    for j in range(len(l1_neurons)):\n",
        "      if counter == 3:\n",
        "        n4_l2 += l1_neurons[j]*ix\n",
        "      if counter == 2:\n",
        "        n3_l2 += l1_neurons[j]*ix\n",
        "        counter += 1\n",
        "      if counter == 1:\n",
        "        n2_l2 += l1_neurons[j]*ix\n",
        "        counter += 1     \n",
        "      if counter == 0:\n",
        "        n1_l2 += l1_neurons[j]*ix\n",
        "        counter += 1     \n",
        "        \n",
        "  #multiply the second neuron from layer one by the weights \n",
        "  #respective to the next layer of neurons      \n",
        "  counter = 0\n",
        "  for ix in weights_layer2[1]:\n",
        "    for j in range(len(l1_neurons)):\n",
        "      if counter == 3:\n",
        "        n4_l2 += l1_neurons[j]*ix\n",
        "      if counter == 2:\n",
        "        n3_l2 += l1_neurons[j]*ix\n",
        "        counter += 1\n",
        "      if counter == 1:\n",
        "        n2_l2 += l1_neurons[j]*ix\n",
        "        counter += 1     \n",
        "      if counter == 0:\n",
        "        n1_l2 += l1_neurons[j]*ix\n",
        "        counter += 1 \n",
        "\t\t  \n",
        "  #multiply the third neuron from layer one by the weights \n",
        "  #respective to the next layer of neurons  \n",
        "  counter = 0\n",
        "  for ix in weights_layer2[2]:\n",
        "    for j in range(len(l1_neurons)):\n",
        "      if counter == 3:\n",
        "        n4_l2 += l1_neurons[j]*ix\n",
        "      if counter == 2:\n",
        "        n3_l2 += l1_neurons[j]*ix\n",
        "        counter += 1\n",
        "      if counter == 1:\n",
        "        n2_l2 += l1_neurons[j]*ix\n",
        "        counter += 1     \n",
        "      if counter == 0:\n",
        "        n1_l2 += l1_neurons[j]*ix\n",
        "        counter += 1    \n",
        "\t\t  \n",
        "  #multiply the fourth neuron from layer one by the weights \n",
        "  #respective to the next layer of neurons  \n",
        "  counter = 0\n",
        "  for ix in weights_layer2[3]:\n",
        "    for j in range(len(l1_neurons)):\n",
        "      if counter == 3:\n",
        "        n4_l2 += l1_neurons[j]*ix\n",
        "      if counter == 2:\n",
        "        n3_l2 += l1_neurons[j]*ix\n",
        "        counter += 1\n",
        "      if counter == 1:\n",
        "        n2_l2 += l1_neurons[j]*ix\n",
        "        counter += 1     \n",
        "      if counter == 0:\n",
        "        n1_l2 += l1_neurons[j]*ix\n",
        "        counter += 1  \n",
        "\t\t  \n",
        "  #multiply the fifth neuron from layer one by the weights \n",
        "  #respective to the next layer of neurons      \n",
        "  counter = 0\n",
        "  for ix in weights_layer2[4]:\n",
        "    for j in range(len(l1_neurons)):\n",
        "      if counter == 3:\n",
        "        n4_l2 += l1_neurons[j]*ix\n",
        "      if counter == 2:\n",
        "        n3_l2 += l1_neurons[j]*ix\n",
        "        counter += 1\n",
        "      if counter == 1:\n",
        "        n2_l2 += l1_neurons[j]*ix\n",
        "        counter += 1     \n",
        "      if counter == 0:\n",
        "        n1_l2 += l1_neurons[j]*ix\n",
        "        counter += 1    \n",
        "\n",
        "  #multiply the sixth neuron from layer one by the weights \n",
        "  #respective to the next layer of neurons  \n",
        "  counter = 0\n",
        "  for ix in weights_layer2[5]:\n",
        "    for j in range(len(l1_neurons)):\n",
        "      if counter == 3:\n",
        "        n4_l2 += l1_neurons[j]*ix\n",
        "      if counter == 2:\n",
        "        n3_l2 += l1_neurons[j]*ix\n",
        "        counter += 1\n",
        "      if counter == 1:\n",
        "        n2_l2 += l1_neurons[j]*ix\n",
        "        counter += 1     \n",
        "      if counter == 0:\n",
        "        n1_l2 += l1_neurons[j]*ix\n",
        "        counter += 1    \n",
        "\t\t  \n",
        "  #multiply the seventh neuron from layer one by the weights \n",
        "  #respective to the next layer of neurons  \n",
        "  counter = 0\n",
        "  for ix in weights_layer2[6]:\n",
        "    for j in range(len(l1_neurons)):\n",
        "      if counter == 3:\n",
        "        n4_l2 += l1_neurons[j]*ix\n",
        "      if counter == 2:\n",
        "        n3_l2 += l1_neurons[j]*ix\n",
        "        counter += 1\n",
        "      if counter == 1:\n",
        "        n2_l2 += l1_neurons[j]*ix\n",
        "        counter += 1     \n",
        "      if counter == 0:\n",
        "        n1_l2 += l1_neurons[j]*ix\n",
        "        counter += 1    \n",
        "\t\t  \n",
        "  #multiply the eighth neuron from layer one by the weights \n",
        "  #respective to the next layer of neurons  \n",
        "  counter = 0\n",
        "  for ix in weights_layer2[7]:\n",
        "    for j in range(len(l1_neurons)):\n",
        "      if counter == 3:\n",
        "        n4_l2 += l1_neurons[j]*ix\n",
        "      if counter == 2:\n",
        "        n3_l2 += l1_neurons[j]*ix\n",
        "        counter += 1\n",
        "      if counter == 1:\n",
        "        n2_l2 += l1_neurons[j]*ix\n",
        "        counter += 1     \n",
        "      if counter == 0:\n",
        "        n1_l2 += l1_neurons[j]*ix\n",
        "        counter += 1    \n",
        "\t  \n",
        "  #add respective biases to each of the neurons  \n",
        "  n1_l2 += biases_layer2[0]\n",
        "  n2_l2 += biases_layer2[1]\n",
        "  n3_l2 += biases_layer2[2]\n",
        "  n4_l2 += biases_layer2[3] \n",
        "\n",
        "  #make list of neuronic activity so far    \n",
        "  l2_neurons = [n1_l2, n2_l2, n3_l2, n4_l2]\n",
        "\n",
        "  #LAYER THREE\n",
        "  #multiply the first neuron from layer two by the weights \n",
        "  #respective to the next layer of neurons \n",
        "  counter = 0\n",
        "  for ix in weights_layer3[0]:\n",
        "    for j in range(len(l2_neurons)):\n",
        "      if counter == 1:\n",
        "        n2_l3 += l2_neurons[j]*ix\n",
        "      if counter == 0:\n",
        "        n1_l3 += l2_neurons[j]*ix\n",
        "        counter += 1\n",
        "\n",
        "  #multiply the second neuron from layer two by the weights \n",
        "  #respective to the next layer of neurons       \n",
        "  counter = 0\n",
        "  for ix in weights_layer3[1]:\n",
        "    for j in range(len(l2_neurons)):\n",
        "      if counter == 1:\n",
        "        n2_l3 += l2_neurons[j]*ix\n",
        "      if counter == 0:\n",
        "        n1_l3 += l2_neurons[j]*ix\n",
        "        counter += 1\n",
        "\n",
        "  #multiply the third neuron from layer two by the weights \n",
        "  #respective to the next layer of neurons   \n",
        "  counter = 0\n",
        "  for ix in weights_layer3[2]:\n",
        "    for j in range(len(l2_neurons)):\n",
        "      if counter == 1:\n",
        "        n2_l3 += l2_neurons[j]*ix\n",
        "      if counter == 0:\n",
        "        n1_l3 += l2_neurons[j]*ix\n",
        "        counter += 1\n",
        "\t\t  \n",
        "  #multiply the fourth neuron from layer two by the weights \n",
        "  #respective to the next layer of neurons   \n",
        "  counter = 0\n",
        "  for ix in weights_layer3[3]:\n",
        "    for j in range(len(l2_neurons)):\n",
        "      if counter == 1:\n",
        "        n2_l3 += l2_neurons[j]*ix\n",
        "      if counter == 0:\n",
        "        n1_l3 += l2_neurons[j]*ix\n",
        "        counter += 1\n",
        "\n",
        "  #add respective biases to each of the neurons        \n",
        "  n1_l3 += biases_layer3[0]\n",
        "  n2_l3 += biases_layer3[1]\n",
        "\n",
        "  #layer three list of neurons\n",
        "  l3_neurons = [n1_l3, n2_l3]\n",
        "\n",
        "  #create output layer by multiplying the prior \n",
        "  #neuron layer by the respective weights \n",
        "  for ix in weights_layer4[0]:\n",
        "    for j in range(len(l3_neurons)):\n",
        "      n1_l4 += l3_neurons[j]*ix\n",
        "\n",
        "  for ix in weights_layer4[1]:\n",
        "    for j in range(len(l3_neurons)):\n",
        "      n1_l4 += l3_neurons[j]*ix\n",
        "\n",
        "  #add the final bias to the output layer\n",
        "  n1_l4 += biases_layer4[0]\n",
        "  #print(\"\\nThis is the output\", k, n1_l4)\n",
        "  \n",
        "  my_predictions.append(n1_l4)\n",
        "  \n",
        "#the moment we've all been waiting for...\n",
        "#print(\"\\nResults:\", [\"{0:0.9f}\".format(i) for i in my_predictions])\n",
        "\n",
        "#print(\"\\nReal Values:\")\n",
        "#for i in range(len(xy)):\n",
        "#  print(xy[i][3])\n",
        "  \n",
        "SAEs = []\n",
        "\n",
        "#print(\"\\n\")\n",
        "#print(x_test)\n",
        "#print(\"\\n\")\n",
        "#print(y_test)\n",
        "\n",
        "for i in range(len(y_test)):\n",
        " # print(\"measured:\",my_predictions[i])\n",
        "  #print(\"actual:\",y_test[i])\n",
        "  SAEs.append(abs(my_predictions[i] - y_test[i]))\n",
        "  \n",
        "print(\"\\n\")\n",
        "print(\"'SAE' of hand written model =\", (sum(SAEs))/(len(y_test)))\n"
      ],
      "execution_count": 132,
      "outputs": [
        {
          "output_type": "stream",
          "text": [
            "\n",
            "\n",
            "'SAE' of hand written model = 0.3262555303964123\n"
          ],
          "name": "stdout"
        }
      ]
    },
    {
      "cell_type": "markdown",
      "metadata": {
        "id": "Ju6bAmTQDqtY",
        "colab_type": "text"
      },
      "source": [
        "##Interpretation of Function Results (directly above)\n",
        "\n",
        "So, my \"sae\" is off by approximately 0.26, which is quite a lot given the data. I have tried multiple fixes, including checking and rechecking my loop logic and making sure the right values are showing up in the right places. Perhaps I am missing a step that the Keras neural network performs that I am unaware of. I did my best to emulate the Multilayered Feed-Forward Neural Networks that we studied in Chapter 18. The weights and biases were extracted directly from the model made in the 'Neural Network - Linear' area of this project. Seeing that my results are worse than any of the models done with the Keras software is disheartening, but also somewhat expected since the software has been optimized by far more experienced programmers than I am. I will continue to work on this function and improve upon it if I can by the project presentations."
      ]
    },
    {
      "cell_type": "markdown",
      "metadata": {
        "id": "oFzEermlOLfl",
        "colab_type": "text"
      },
      "source": [
        "##Neural Network - Sigmoid\n",
        "This neural network does an absolutely abismal job of predicting the values, so much so that comparatively, the previous NN looks amazing. It is great to see how changing one thing--albeit a very impactful thing--can make or break the model. The plot below shows no relationship between real values and predictions, unlike the somewhat linear relationship shown directly above. If the input features, particularly the Experience Measure, were more robust, I believe the linear NN would have performed better. "
      ]
    },
    {
      "cell_type": "code",
      "metadata": {
        "id": "Rj93jC_gRzWq",
        "colab_type": "code",
        "outputId": "50f09154-515f-43b9-8af0-33f1d53c1a66",
        "colab": {
          "base_uri": "https://localhost:8080/",
          "height": 1548
        }
      },
      "source": [
        "model = Sequential()\n",
        "model.add(Dense(8, input_dim = 3, activation='sigmoid'))\n",
        "model.add(Dense(4, activation='sigmoid'))\n",
        "model.add(Dense(2, activation='sigmoid'))\n",
        "model.add(Dense(1, activation='sigmoid'))\n",
        "print(model.summary())\n",
        "model.compile(loss='mse', optimizer='sgd', metrics=['mae'])\n",
        "history = model.fit(x_train, y_train, epochs=35, verbose = 2, batch_size=10, validation_data = (x_test, y_test))"
      ],
      "execution_count": 133,
      "outputs": [
        {
          "output_type": "stream",
          "text": [
            "_________________________________________________________________\n",
            "Layer (type)                 Output Shape              Param #   \n",
            "=================================================================\n",
            "dense_28 (Dense)             (None, 8)                 32        \n",
            "_________________________________________________________________\n",
            "dense_29 (Dense)             (None, 4)                 36        \n",
            "_________________________________________________________________\n",
            "dense_30 (Dense)             (None, 2)                 10        \n",
            "_________________________________________________________________\n",
            "dense_31 (Dense)             (None, 1)                 3         \n",
            "=================================================================\n",
            "Total params: 81\n",
            "Trainable params: 81\n",
            "Non-trainable params: 0\n",
            "_________________________________________________________________\n",
            "None\n",
            "Train on 155 samples, validate on 40 samples\n",
            "Epoch 1/35\n",
            " - 1s - loss: 0.2887 - mean_absolute_error: 0.5264 - val_loss: 0.2523 - val_mean_absolute_error: 0.4928\n",
            "Epoch 2/35\n",
            " - 0s - loss: 0.2716 - mean_absolute_error: 0.5100 - val_loss: 0.2363 - val_mean_absolute_error: 0.4764\n",
            "Epoch 3/35\n",
            " - 0s - loss: 0.2551 - mean_absolute_error: 0.4937 - val_loss: 0.2211 - val_mean_absolute_error: 0.4601\n",
            "Epoch 4/35\n",
            " - 0s - loss: 0.2394 - mean_absolute_error: 0.4775 - val_loss: 0.2065 - val_mean_absolute_error: 0.4439\n",
            "Epoch 5/35\n",
            " - 0s - loss: 0.2244 - mean_absolute_error: 0.4618 - val_loss: 0.1926 - val_mean_absolute_error: 0.4281\n",
            "Epoch 6/35\n",
            " - 0s - loss: 0.2101 - mean_absolute_error: 0.4465 - val_loss: 0.1796 - val_mean_absolute_error: 0.4126\n",
            "Epoch 7/35\n",
            " - 0s - loss: 0.1967 - mean_absolute_error: 0.4313 - val_loss: 0.1674 - val_mean_absolute_error: 0.3975\n",
            "Epoch 8/35\n",
            " - 0s - loss: 0.1841 - mean_absolute_error: 0.4168 - val_loss: 0.1559 - val_mean_absolute_error: 0.3828\n",
            "Epoch 9/35\n",
            " - 0s - loss: 0.1723 - mean_absolute_error: 0.4028 - val_loss: 0.1453 - val_mean_absolute_error: 0.3686\n",
            "Epoch 10/35\n",
            " - 0s - loss: 0.1614 - mean_absolute_error: 0.3892 - val_loss: 0.1354 - val_mean_absolute_error: 0.3550\n",
            "Epoch 11/35\n",
            " - 0s - loss: 0.1512 - mean_absolute_error: 0.3763 - val_loss: 0.1263 - val_mean_absolute_error: 0.3420\n",
            "Epoch 12/35\n",
            " - 0s - loss: 0.1418 - mean_absolute_error: 0.3638 - val_loss: 0.1179 - val_mean_absolute_error: 0.3294\n",
            "Epoch 13/35\n",
            " - 0s - loss: 0.1330 - mean_absolute_error: 0.3518 - val_loss: 0.1102 - val_mean_absolute_error: 0.3175\n",
            "Epoch 14/35\n",
            " - 0s - loss: 0.1251 - mean_absolute_error: 0.3403 - val_loss: 0.1030 - val_mean_absolute_error: 0.3060\n",
            "Epoch 15/35\n",
            " - 0s - loss: 0.1176 - mean_absolute_error: 0.3294 - val_loss: 0.0965 - val_mean_absolute_error: 0.2950\n",
            "Epoch 16/35\n",
            " - 0s - loss: 0.1107 - mean_absolute_error: 0.3190 - val_loss: 0.0904 - val_mean_absolute_error: 0.2846\n",
            "Epoch 17/35\n",
            " - 0s - loss: 0.1044 - mean_absolute_error: 0.3092 - val_loss: 0.0848 - val_mean_absolute_error: 0.2747\n",
            "Epoch 18/35\n",
            " - 0s - loss: 0.0986 - mean_absolute_error: 0.2997 - val_loss: 0.0798 - val_mean_absolute_error: 0.2652\n",
            "Epoch 19/35\n",
            " - 0s - loss: 0.0932 - mean_absolute_error: 0.2909 - val_loss: 0.0750 - val_mean_absolute_error: 0.2565\n",
            "Epoch 20/35\n",
            " - 0s - loss: 0.0882 - mean_absolute_error: 0.2824 - val_loss: 0.0707 - val_mean_absolute_error: 0.2483\n",
            "Epoch 21/35\n",
            " - 0s - loss: 0.0836 - mean_absolute_error: 0.2743 - val_loss: 0.0667 - val_mean_absolute_error: 0.2406\n",
            "Epoch 22/35\n",
            " - 0s - loss: 0.0794 - mean_absolute_error: 0.2668 - val_loss: 0.0630 - val_mean_absolute_error: 0.2335\n",
            "Epoch 23/35\n",
            " - 0s - loss: 0.0755 - mean_absolute_error: 0.2595 - val_loss: 0.0597 - val_mean_absolute_error: 0.2268\n",
            "Epoch 24/35\n",
            " - 0s - loss: 0.0719 - mean_absolute_error: 0.2526 - val_loss: 0.0565 - val_mean_absolute_error: 0.2205\n",
            "Epoch 25/35\n",
            " - 0s - loss: 0.0685 - mean_absolute_error: 0.2460 - val_loss: 0.0536 - val_mean_absolute_error: 0.2143\n",
            "Epoch 26/35\n",
            " - 0s - loss: 0.0654 - mean_absolute_error: 0.2397 - val_loss: 0.0510 - val_mean_absolute_error: 0.2085\n",
            "Epoch 27/35\n",
            " - 0s - loss: 0.0625 - mean_absolute_error: 0.2336 - val_loss: 0.0485 - val_mean_absolute_error: 0.2030\n",
            "Epoch 28/35\n",
            " - 0s - loss: 0.0598 - mean_absolute_error: 0.2281 - val_loss: 0.0462 - val_mean_absolute_error: 0.1980\n",
            "Epoch 29/35\n",
            " - 0s - loss: 0.0573 - mean_absolute_error: 0.2227 - val_loss: 0.0440 - val_mean_absolute_error: 0.1932\n",
            "Epoch 30/35\n",
            " - 0s - loss: 0.0550 - mean_absolute_error: 0.2176 - val_loss: 0.0421 - val_mean_absolute_error: 0.1887\n",
            "Epoch 31/35\n",
            " - 0s - loss: 0.0528 - mean_absolute_error: 0.2126 - val_loss: 0.0402 - val_mean_absolute_error: 0.1845\n",
            "Epoch 32/35\n",
            " - 0s - loss: 0.0508 - mean_absolute_error: 0.2080 - val_loss: 0.0385 - val_mean_absolute_error: 0.1806\n",
            "Epoch 33/35\n",
            " - 0s - loss: 0.0489 - mean_absolute_error: 0.2037 - val_loss: 0.0369 - val_mean_absolute_error: 0.1768\n",
            "Epoch 34/35\n",
            " - 0s - loss: 0.0471 - mean_absolute_error: 0.1996 - val_loss: 0.0354 - val_mean_absolute_error: 0.1732\n",
            "Epoch 35/35\n",
            " - 0s - loss: 0.0454 - mean_absolute_error: 0.1956 - val_loss: 0.0341 - val_mean_absolute_error: 0.1697\n"
          ],
          "name": "stdout"
        }
      ]
    },
    {
      "cell_type": "code",
      "metadata": {
        "id": "6117h0kUOHCx",
        "colab_type": "code",
        "outputId": "980c1066-e7d8-450a-902c-2ce5fb1ccd7f",
        "colab": {
          "base_uri": "https://localhost:8080/",
          "height": 283
        }
      },
      "source": [
        "prediction = model.predict(x_test)\n",
        "plt.figure(figsize=(4,4))\n",
        "plt.plot(y_test, prediction, '.')\n",
        "plt.xlabel('Correct values')\n",
        "plt.ylabel('Predictions')\n",
        "plt.show()"
      ],
      "execution_count": 134,
      "outputs": [
        {
          "output_type": "display_data",
          "data": {
            "image/png": "[encoded data removed]",
            "text/plain": [
              "<Figure size 288x288 with 1 Axes>"
            ]
          },
          "metadata": {
            "tags": []
          }
        }
      ]
    },
    {
      "cell_type": "code",
      "metadata": {
        "id": "pPoAHOhJRRXK",
        "colab_type": "code",
        "outputId": "bdb5aa74-7109-425b-b134-aa7a5da92f15",
        "colab": {
          "base_uri": "https://localhost:8080/",
          "height": 52
        }
      },
      "source": [
        "results = model.evaluate(x_test, y_test)\n",
        "print ('mae = ', results[1])"
      ],
      "execution_count": 135,
      "outputs": [
        {
          "output_type": "stream",
          "text": [
            "40/40 [==============================] - 0s 105us/step\n",
            "mae =  0.16969274282455443\n"
          ],
          "name": "stdout"
        }
      ]
    }
  ]
}